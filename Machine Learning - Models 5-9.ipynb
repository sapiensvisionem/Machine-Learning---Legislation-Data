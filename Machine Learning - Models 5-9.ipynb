{
 "cells": [
  {
   "cell_type": "markdown",
   "metadata": {},
   "source": [
    "### 5. SVC"
   ]
  },
  {
   "cell_type": "code",
   "execution_count": 64,
   "metadata": {},
   "outputs": [],
   "source": [
    "clf_5a = SVC()\n",
    "CV_clf_5a = GridSearchCV(estimator=clf_5a,\n",
    "                        param_grid={'C': [0.1, 1, 10, 100, 1000],  \n",
    "                                  'gamma': [1, 0.1, 0.01, 0.001, 0.0001], \n",
    "                                  'kernel': ['linear', 'rbf','poly','sigmoid']},\n",
    "                        cv=5,\n",
    "                        scoring='roc_auc')\n",
    "pipeline_5a = Pipeline([('chi2', chi2_selector),\n",
    "                       ('clf_cv',CV_clf_5a)])\n",
    "pipeline_5a.fit(X_train,y_train)\n",
    "y_predict_5a = pipeline_5a.predict(X_test)"
   ]
  },
  {
   "cell_type": "code",
   "execution_count": 67,
   "metadata": {},
   "outputs": [
    {
     "name": "stdout",
     "output_type": "stream",
     "text": [
      "Accuracy is: 0.754\n",
      "F1 score is: 0.5060240963855421\n",
      "Precision is: 0.6774193548387096\n",
      "Recall is: 0.40384615384615385\n",
      "Kappa score is: 0.355913032549956\n",
      "AUC is: 0.6583184257602862\n",
      "Balanced accuracy is: 0.6583184257602862\n",
      "[[314  93]\n",
      " [ 30  63]]\n"
     ]
    }
   ],
   "source": [
    "evaluation_result(y_predict_5a, y_test)"
   ]
  },
  {
   "cell_type": "code",
   "execution_count": 69,
   "metadata": {},
   "outputs": [
    {
     "data": {
      "text/plain": [
       "['/Users/jihunlee/Desktop/svc.joblib']"
      ]
     },
     "execution_count": 69,
     "metadata": {},
     "output_type": "execute_result"
    }
   ],
   "source": [
    "dump(pipeline_5a, '/Users/jihunlee/Desktop/svc.joblib')"
   ]
  },
  {
   "cell_type": "markdown",
   "metadata": {},
   "source": [
    "### 6. MLP Classifier"
   ]
  },
  {
   "cell_type": "code",
   "execution_count": 61,
   "metadata": {},
   "outputs": [],
   "source": [
    "parameters={\n",
    "    'solver': ['lbfgs'],\n",
    "    'learning_rate': [\"constant\", \"invscaling\", \"adaptive\"],\n",
    "    'hidden_layer_sizes':np.arange(5, 10),\n",
    "    'alpha': 10.0 ** -np.arange(1, 3),\n",
    "    'activation': [\"logistic\", \"relu\", \"tanh\", 'identity'],\n",
    "    'random_state':[42]\n",
    "}\n",
    "\n",
    "CV_clf_6 = GridSearchCV(estimator=MLPClassifier(),\n",
    "                        param_grid=parameters,\n",
    "                        cv=5)\n",
    "\n",
    "pipeline_6 = Pipeline([('chi2', chi2_selector), \n",
    "                       ('clf_cv', CV_clf_6)])\n",
    "\n",
    "pipeline_6.fit(X_train, y_train)\n",
    "y_predict_6 = pipeline_6.predict(X_test)"
   ]
  },
  {
   "cell_type": "code",
   "execution_count": 62,
   "metadata": {},
   "outputs": [
    {
     "name": "stdout",
     "output_type": "stream",
     "text": [
      "Accuracy is: 0.766\n",
      "F1 score is: 0.5836298932384342\n",
      "Precision is: 0.656\n",
      "Recall is: 0.5256410256410257\n",
      "Kappa score is: 0.4236453201970444\n",
      "AUC is: 0.7003205128205128\n",
      "Balanced accuracy is: 0.7003205128205128\n",
      "[[301  74]\n",
      " [ 43  82]]\n"
     ]
    }
   ],
   "source": [
    "evaluation_result(y_predict_6, y_test)"
   ]
  },
  {
   "cell_type": "code",
   "execution_count": 65,
   "metadata": {},
   "outputs": [],
   "source": [
    "from joblib import dump, load"
   ]
  },
  {
   "cell_type": "code",
   "execution_count": 66,
   "metadata": {},
   "outputs": [
    {
     "data": {
      "text/plain": [
       "['/Users/jihunlee/Desktop/mlpclassifier.joblib']"
      ]
     },
     "execution_count": 66,
     "metadata": {},
     "output_type": "execute_result"
    }
   ],
   "source": [
    "dump(pipeline_6, '/Users/jihunlee/Desktop/mlpclassifier.joblib')"
   ]
  },
  {
   "cell_type": "markdown",
   "metadata": {},
   "source": [
    "### 7. Gaussian Naive Bayes"
   ]
  },
  {
   "cell_type": "code",
   "execution_count": 50,
   "metadata": {},
   "outputs": [],
   "source": [
    "clf_featr_sele_7 = GaussianNB()\n",
    "pipeline_7 = Pipeline([('chi2', chi2_selector), ('gaussianProcess', clf_featr_sele_7)])\n",
    "pipeline_7.fit(X_train, y_train)\n",
    "y_predict_7 = pipeline_7.predict(X_test)"
   ]
  },
  {
   "cell_type": "code",
   "execution_count": 51,
   "metadata": {},
   "outputs": [
    {
     "name": "stdout",
     "output_type": "stream",
     "text": [
      "Accuracy is: 0.686\n",
      "F1 score is: 0.6084788029925186\n",
      "Precision is: 0.49795918367346936\n",
      "Recall is: 0.782051282051282\n",
      "Kappa score is: 0.36724165726261493\n",
      "AUC is: 0.7122465712581991\n",
      "Balanced accuracy is: 0.7122465712581991\n",
      "[[221  34]\n",
      " [123 122]]\n"
     ]
    }
   ],
   "source": [
    "evaluation_result(y_predict_7, y_test)"
   ]
  },
  {
   "cell_type": "markdown",
   "metadata": {},
   "source": [
    "### 8. K Nearest Neighbors"
   ]
  },
  {
   "cell_type": "code",
   "execution_count": 56,
   "metadata": {},
   "outputs": [],
   "source": [
    "clf_featr_sele_8 = KNeighborsClassifier()\n",
    "CV_clf_8 = GridSearchCV(\n",
    "    clf_featr_sele_8,\n",
    "    {'n_neighbors': [3,5,7,9,11],\n",
    "    'weights':['uniform','distance'],\n",
    "    'metric':['euclidean','manhattan']\n",
    "    },\n",
    "    cv=5,\n",
    "    n_jobs=-1)\n",
    "pipeline_8 = Pipeline([('chi2', chi2_selector), \n",
    "                       ('clf_cv', CV_clf_8)])\n",
    "\n",
    "pipeline_8.fit(X_train, y_train)\n",
    "y_predict_8 = pipeline_8.predict(X_test)"
   ]
  },
  {
   "cell_type": "code",
   "execution_count": 49,
   "metadata": {},
   "outputs": [
    {
     "name": "stdout",
     "output_type": "stream",
     "text": [
      "Accuracy is: 0.712\n",
      "F1 score is: 0.5443037974683544\n",
      "Precision is: 0.5375\n",
      "Recall is: 0.5512820512820513\n",
      "Kappa score is: 0.3338267949666913\n",
      "AUC is: 0.668082886106142\n",
      "Balanced accuracy is: 0.6680828861061419\n",
      "[[270  70]\n",
      " [ 74  86]]\n"
     ]
    }
   ],
   "source": [
    "evaluation_result(y_predict_8, y_test)"
   ]
  },
  {
   "cell_type": "markdown",
   "metadata": {},
   "source": [
    "### 9. Gaussian Process"
   ]
  },
  {
   "cell_type": "code",
   "execution_count": 45,
   "metadata": {},
   "outputs": [],
   "source": [
    "kernel = 1.0 * RBF(1.0)\n",
    "clf_featr_sele_9 = GaussianProcessClassifier(kernel=kernel,\n",
    "        random_state=42)\n",
    "pipeline_9 = Pipeline([('chi2', chi2_selector), ('gaussianProcess', clf_featr_sele_9)])\n",
    "pipeline_9.fit(X_train, y_train)\n",
    "y_predict_9 = pipeline_9.predict(X_test)"
   ]
  },
  {
   "cell_type": "code",
   "execution_count": 46,
   "metadata": {},
   "outputs": [
    {
     "name": "stdout",
     "output_type": "stream",
     "text": [
      "Accuracy is: 0.764\n",
      "F1 score is: 0.5874125874125874\n",
      "Precision is: 0.6461538461538462\n",
      "Recall is: 0.5384615384615384\n",
      "Kappa score is: 0.42405310425614995\n",
      "AUC is: 0.7023703041144901\n",
      "Balanced accuracy is: 0.7023703041144902\n",
      "[[298  72]\n",
      " [ 46  84]]\n"
     ]
    }
   ],
   "source": [
    "evaluation_result(y_predict_9, y_test)"
   ]
  }
 ],
 "metadata": {
  "kernelspec": {
   "display_name": "Python 3",
   "language": "python",
   "name": "python3"
  },
  "language_info": {
   "codemirror_mode": {
    "name": "ipython",
    "version": 3
   },
   "file_extension": ".py",
   "mimetype": "text/x-python",
   "name": "python",
   "nbconvert_exporter": "python",
   "pygments_lexer": "ipython3",
   "version": "3.7.4"
  }
 },
 "nbformat": 4,
 "nbformat_minor": 2
}
