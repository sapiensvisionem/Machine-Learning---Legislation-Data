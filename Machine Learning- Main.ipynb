{
 "cells": [
  {
   "cell_type": "markdown",
   "metadata": {},
   "source": [
    "# IPI ASSESSMENT <br>\n",
    "###  by James Lee, April 3rd 2020\n",
    "### jihunlee.jhl@gmail.com"
   ]
  },
  {
   "cell_type": "markdown",
   "metadata": {},
   "source": [
    "# Introduction"
   ]
  },
  {
   "cell_type": "markdown",
   "metadata": {},
   "source": [
    "## Import Libraries"
   ]
  },
  {
   "cell_type": "code",
   "execution_count": 225,
   "metadata": {},
   "outputs": [],
   "source": [
    "import re\n",
    "import gc\n",
    "import sys\n",
    "import math\n",
    "import tqdm\n",
    "import eli5\n",
    "import numpy as np\n",
    "import pandas as pd\n",
    "import seaborn as sns\n",
    "import xgboost as xgb\n",
    "import lightgbm as lgb\n",
    "from sklearn.svm import SVC\n",
    "from joblib import dump, load\n",
    "import matplotlib.pyplot as plt\n",
    "from IPython.core.display import HTML\n",
    "from sklearn.pipeline import Pipeline\n",
    "from catboost import CatBoostClassifier\n",
    "from xgboost.sklearn import XGBClassifier\n",
    "from sklearn.naive_bayes import GaussianNB\n",
    "from sklearn.tree import DecisionTreeClassifier\n",
    "from sklearn.gaussian_process.kernels import RBF\n",
    "from sklearn.neural_network import MLPClassifier\n",
    "from sklearn.linear_model import LogisticRegression\n",
    "from sklearn.feature_selection import RFECV, SelectKBest, chi2\n",
    "from sklearn.gaussian_process import GaussianProcessClassifier\n",
    "from sklearn.neighbors import KNeighborsClassifier, NearestCentroid\n",
    "from sklearn.model_selection import GridSearchCV, train_test_split, ParameterGrid\n",
    "from sklearn.discriminant_analysis import LinearDiscriminantAnalysis, QuadraticDiscriminantAnalysis\n",
    "from sklearn.ensemble import RandomForestClassifier, ExtraTreesClassifier, GradientBoostingClassifier, AdaBoostClassifier\n",
    "from sklearn.metrics import accuracy_score,confusion_matrix, f1_score, precision_score, recall_score, roc_auc_score, cohen_kappa_score, balanced_accuracy_score\n"
   ]
  },
  {
   "cell_type": "markdown",
   "metadata": {},
   "source": [
    "## Read Data"
   ]
  },
  {
   "cell_type": "code",
   "execution_count": 253,
   "metadata": {},
   "outputs": [],
   "source": [
    "df = pd.read_excel('C:/Users/jihun/Downloads/billsData-4.xlsx')"
   ]
  },
  {
   "cell_type": "markdown",
   "metadata": {},
   "source": [
    "## Inspect Data"
   ]
  },
  {
   "cell_type": "code",
   "execution_count": 228,
   "metadata": {},
   "outputs": [
    {
     "data": {
      "text/plain": [
       "Index(['newId', 'Fiscal Note', 'New Act', 'Pensions', 'Finance', 'Revenue',\n",
       "       'Reached Floor', 'democraticCosponsor', 'republicanCosponsors',\n",
       "       'primaryRace', 'bipartisan', 'primarySex_Female', 'primarySex_Male',\n",
       "       'primarySex_nan', 'Chamber_HB', 'Chamber_SB', 'Election_Status_0',\n",
       "       'Election_Status_1', 'Election_Status_2', 'primaryParty_D',\n",
       "       'primaryParty_R', 'primaryIsLeader_No', 'primaryIsLeader_Yes',\n",
       "       'primaryAge_missing', 'primaryAge_twenties', 'primaryAge_thirties',\n",
       "       'primaryAge_fourties', 'primaryAge_fifties', 'primaryAge_sixties',\n",
       "       'primaryAge_seventies'],\n",
       "      dtype='object')"
      ]
     },
     "execution_count": 228,
     "metadata": {},
     "output_type": "execute_result"
    }
   ],
   "source": [
    "df.columns"
   ]
  },
  {
   "cell_type": "code",
   "execution_count": 229,
   "metadata": {},
   "outputs": [
    {
     "data": {
      "text/plain": [
       "(2000, 30)"
      ]
     },
     "execution_count": 229,
     "metadata": {},
     "output_type": "execute_result"
    }
   ],
   "source": [
    "df.shape"
   ]
  },
  {
   "cell_type": "markdown",
   "metadata": {},
   "source": [
    "This dataset a relatively small dataset of 2,000 rows and 16 columns, so we can afford to run many models."
   ]
  },
  {
   "cell_type": "markdown",
   "metadata": {},
   "source": [
    "### newId is the unique key?"
   ]
  },
  {
   "cell_type": "code",
   "execution_count": 231,
   "metadata": {},
   "outputs": [
    {
     "data": {
      "text/html": [
       "<div>\n",
       "<style scoped>\n",
       "    .dataframe tbody tr th:only-of-type {\n",
       "        vertical-align: middle;\n",
       "    }\n",
       "\n",
       "    .dataframe tbody tr th {\n",
       "        vertical-align: top;\n",
       "    }\n",
       "\n",
       "    .dataframe thead th {\n",
       "        text-align: right;\n",
       "    }\n",
       "</style>\n",
       "<table border=\"1\" class=\"dataframe\">\n",
       "  <thead>\n",
       "    <tr style=\"text-align: right;\">\n",
       "      <th></th>\n",
       "      <th>newId</th>\n",
       "      <th>Fiscal Note</th>\n",
       "      <th>New Act</th>\n",
       "      <th>Pensions</th>\n",
       "      <th>Finance</th>\n",
       "      <th>Revenue</th>\n",
       "      <th>Reached Floor</th>\n",
       "      <th>democraticCosponsor</th>\n",
       "      <th>republicanCosponsors</th>\n",
       "      <th>primaryRace</th>\n",
       "      <th>...</th>\n",
       "      <th>primaryParty_R</th>\n",
       "      <th>primaryIsLeader_No</th>\n",
       "      <th>primaryIsLeader_Yes</th>\n",
       "      <th>primaryAge_missing</th>\n",
       "      <th>primaryAge_twenties</th>\n",
       "      <th>primaryAge_thirties</th>\n",
       "      <th>primaryAge_fourties</th>\n",
       "      <th>primaryAge_fifties</th>\n",
       "      <th>primaryAge_sixties</th>\n",
       "      <th>primaryAge_seventies</th>\n",
       "    </tr>\n",
       "  </thead>\n",
       "  <tbody>\n",
       "  </tbody>\n",
       "</table>\n",
       "<p>0 rows × 30 columns</p>\n",
       "</div>"
      ],
      "text/plain": [
       "Empty DataFrame\n",
       "Columns: [newId, Fiscal Note, New Act, Pensions, Finance, Revenue, Reached Floor, democraticCosponsor, republicanCosponsors, primaryRace, bipartisan, primarySex_Female, primarySex_Male, primarySex_nan, Chamber_HB, Chamber_SB, Election_Status_0, Election_Status_1, Election_Status_2, primaryParty_D, primaryParty_R, primaryIsLeader_No, primaryIsLeader_Yes, primaryAge_missing, primaryAge_twenties, primaryAge_thirties, primaryAge_fourties, primaryAge_fifties, primaryAge_sixties, primaryAge_seventies]\n",
       "Index: []\n",
       "\n",
       "[0 rows x 30 columns]"
      ]
     },
     "execution_count": 231,
     "metadata": {},
     "output_type": "execute_result"
    }
   ],
   "source": [
    "df[df['newId'].duplicated() == True]"
   ]
  },
  {
   "cell_type": "markdown",
   "metadata": {},
   "source": [
    "Yes, it is."
   ]
  },
  {
   "cell_type": "markdown",
   "metadata": {},
   "source": [
    "## Response Variable"
   ]
  },
  {
   "cell_type": "markdown",
   "metadata": {},
   "source": [
    "TARGET variable in binary in nature. So this is a binary classification problem."
   ]
  },
  {
   "cell_type": "code",
   "execution_count": 232,
   "metadata": {},
   "outputs": [
    {
     "data": {
      "image/png": "[encoded data removed]",
      "text/plain": [
       "<Figure size 432x288 with 1 Axes>"
      ]
     },
     "metadata": {},
     "output_type": "display_data"
    }
   ],
   "source": [
    "pie_labels=['Reached Floor-'+str(df['Reached Floor'][df['Reached Floor']==1].count()),'Did Not Reach Floor-'+str(df['Reached Floor'][df['Reached Floor']==0].count())]\n",
    "pie_share=[df['Reached Floor'][df['Reached Floor']==1].count()/df['Reached Floor'].count(),\n",
    "           df['Reached Floor'][df['Reached Floor']==0].count()/df['Reached Floor'].count()]\n",
    "figureObject, axesObject = plt.subplots()\n",
    "pie_colors=('red','green')\n",
    "pie_explode=(.3,.0)\n",
    "axesObject.pie(pie_share,labels=pie_labels,explode=pie_explode,autopct='%.2f%%',colors=pie_colors,startangle=0,shadow=True)\n",
    "axesObject.axis('equal')\n",
    "plt.title('Percentage of Reach and Not Reac',color='blue')\n",
    "plt.show()"
   ]
  },
  {
   "cell_type": "markdown",
   "metadata": {},
   "source": [
    "The percentage of Bills That Reached the Floor is 67.90%, which is slightly imbalanced but not problematic. We can later use imbalance-robust metrics such as kappa score and balanced accuracy for selecting the models. There is no need for oversampling or other techniques to correct data imbalance."
   ]
  },
  {
   "cell_type": "markdown",
   "metadata": {},
   "source": [
    "## Predictor Variables"
   ]
  },
  {
   "cell_type": "markdown",
   "metadata": {},
   "source": [
    "At large, the predictor variables can be classified into four categories: 1) topics: fiscal, revenue, pension, finance 2) measure of support: dem/republican cosponsors, 3) info about primary author: sex, age, race, leader status, party 4) others: chamber, new act, intro election status."
   ]
  },
  {
   "cell_type": "markdown",
   "metadata": {},
   "source": [
    "# Data Preprocessing"
   ]
  },
  {
   "cell_type": "markdown",
   "metadata": {},
   "source": [
    "## What are the variable types?"
   ]
  },
  {
   "cell_type": "markdown",
   "metadata": {},
   "source": [
    "The categorical variables are 1) chamber 2) fiscal note 3) New Act 4) Pensions 5) Finance 6) Revenue 7) primaryParty 8) primaryRace 9) primarySex 10) primaryIsLeader 11) Intro Election Status.\n",
    "\n",
    "The numeric variables are 1) democraticSponsor 2) republicanCosponsor 3) primaryAge."
   ]
  },
  {
   "cell_type": "code",
   "execution_count": 235,
   "metadata": {
    "scrolled": true
   },
   "outputs": [
    {
     "data": {
      "text/plain": [
       "newId                    object\n",
       "Chamber                  object\n",
       "Fiscal Note               int64\n",
       "Intro Election Status     int64\n",
       "New Act                   int64\n",
       "Pensions                  int64\n",
       "Finance                   int64\n",
       "Revenue                   int64\n",
       "Reached Floor             int64\n",
       "democraticCosponsor       int64\n",
       "republicanCosponsors      int64\n",
       "primaryParty             object\n",
       "primaryRace               int64\n",
       "primaryAge                int64\n",
       "primarySex               object\n",
       "primaryIsLeader          object\n",
       "dtype: object"
      ]
     },
     "execution_count": 235,
     "metadata": {},
     "output_type": "execute_result"
    }
   ],
   "source": [
    "df.dtypes"
   ]
  },
  {
   "cell_type": "markdown",
   "metadata": {},
   "source": [
    "### Label encode the Variables for correlation analysis\n",
    "\n",
    "(When modeling, variable will be one hot encoded)"
   ]
  },
  {
   "cell_type": "code",
   "execution_count": null,
   "metadata": {},
   "outputs": [],
   "source": [
    "df1 = df\n",
    "df2 = df"
   ]
  },
  {
   "cell_type": "code",
   "execution_count": 239,
   "metadata": {},
   "outputs": [],
   "source": [
    "num_col = ['newId','democraticCosponsor','republicanCosponsors','primaryAge']\n",
    "cat_col = [item for item in df1.columns if item not in num_col]\n",
    "for col in cat_col:\n",
    "    df1[col],_ = df1[col].factorize()"
   ]
  },
  {
   "cell_type": "code",
   "execution_count": 240,
   "metadata": {},
   "outputs": [
    {
     "data": {
      "text/plain": [
       "newId                    object\n",
       "Chamber                   int64\n",
       "Fiscal Note               int64\n",
       "Intro Election Status     int64\n",
       "New Act                   int64\n",
       "Pensions                  int64\n",
       "Finance                   int64\n",
       "Revenue                   int64\n",
       "Reached Floor             int64\n",
       "democraticCosponsor       int64\n",
       "republicanCosponsors      int64\n",
       "primaryParty              int64\n",
       "primaryRace               int64\n",
       "primaryAge                int64\n",
       "primarySex                int64\n",
       "primaryIsLeader           int64\n",
       "dtype: object"
      ]
     },
     "execution_count": 240,
     "metadata": {},
     "output_type": "execute_result"
    }
   ],
   "source": [
    "df1.dtypes"
   ]
  },
  {
   "cell_type": "markdown",
   "metadata": {},
   "source": [
    "# Univariate Analysis"
   ]
  },
  {
   "cell_type": "markdown",
   "metadata": {},
   "source": [
    "## Distributions"
   ]
  },
  {
   "cell_type": "markdown",
   "metadata": {},
   "source": [
    "Looking at the means of some of the binary variables, we can tell that they are very skewed. For instance, the mean of Fiscal Note is 0.02, which means only 2% of data had a fiscal note attached with it."
   ]
  },
  {
   "cell_type": "code",
   "execution_count": 241,
   "metadata": {},
   "outputs": [
    {
     "data": {
      "text/html": [
       "<div>\n",
       "<style scoped>\n",
       "    .dataframe tbody tr th:only-of-type {\n",
       "        vertical-align: middle;\n",
       "    }\n",
       "\n",
       "    .dataframe tbody tr th {\n",
       "        vertical-align: top;\n",
       "    }\n",
       "\n",
       "    .dataframe thead th {\n",
       "        text-align: right;\n",
       "    }\n",
       "</style>\n",
       "<table border=\"1\" class=\"dataframe\">\n",
       "  <thead>\n",
       "    <tr style=\"text-align: right;\">\n",
       "      <th></th>\n",
       "      <th>Chamber</th>\n",
       "      <th>Fiscal Note</th>\n",
       "      <th>Intro Election Status</th>\n",
       "      <th>New Act</th>\n",
       "      <th>Pensions</th>\n",
       "      <th>Finance</th>\n",
       "      <th>Revenue</th>\n",
       "      <th>Reached Floor</th>\n",
       "      <th>democraticCosponsor</th>\n",
       "      <th>republicanCosponsors</th>\n",
       "      <th>primaryParty</th>\n",
       "      <th>primaryRace</th>\n",
       "      <th>primaryAge</th>\n",
       "      <th>primarySex</th>\n",
       "      <th>primaryIsLeader</th>\n",
       "    </tr>\n",
       "  </thead>\n",
       "  <tbody>\n",
       "    <tr>\n",
       "      <th>count</th>\n",
       "      <td>2000.000000</td>\n",
       "      <td>2000.00000</td>\n",
       "      <td>2000.000000</td>\n",
       "      <td>2000.000000</td>\n",
       "      <td>2000.00000</td>\n",
       "      <td>2000.000000</td>\n",
       "      <td>2000.000000</td>\n",
       "      <td>2000.000000</td>\n",
       "      <td>2000.000000</td>\n",
       "      <td>2000.000000</td>\n",
       "      <td>2000.000000</td>\n",
       "      <td>2000.000000</td>\n",
       "      <td>2000.000000</td>\n",
       "      <td>2000.000000</td>\n",
       "      <td>2000.000000</td>\n",
       "    </tr>\n",
       "    <tr>\n",
       "      <th>mean</th>\n",
       "      <td>0.347500</td>\n",
       "      <td>0.02100</td>\n",
       "      <td>0.632500</td>\n",
       "      <td>0.070500</td>\n",
       "      <td>0.04800</td>\n",
       "      <td>0.106000</td>\n",
       "      <td>0.108500</td>\n",
       "      <td>0.321000</td>\n",
       "      <td>1.977000</td>\n",
       "      <td>0.918000</td>\n",
       "      <td>0.638500</td>\n",
       "      <td>0.258000</td>\n",
       "      <td>48.529000</td>\n",
       "      <td>0.647000</td>\n",
       "      <td>0.621500</td>\n",
       "    </tr>\n",
       "    <tr>\n",
       "      <th>std</th>\n",
       "      <td>0.476295</td>\n",
       "      <td>0.14342</td>\n",
       "      <td>0.807942</td>\n",
       "      <td>0.256052</td>\n",
       "      <td>0.21382</td>\n",
       "      <td>0.307915</td>\n",
       "      <td>0.311089</td>\n",
       "      <td>0.466978</td>\n",
       "      <td>5.153033</td>\n",
       "      <td>3.477114</td>\n",
       "      <td>0.480555</td>\n",
       "      <td>0.437643</td>\n",
       "      <td>17.782133</td>\n",
       "      <td>0.514318</td>\n",
       "      <td>0.485134</td>\n",
       "    </tr>\n",
       "    <tr>\n",
       "      <th>min</th>\n",
       "      <td>0.000000</td>\n",
       "      <td>0.00000</td>\n",
       "      <td>0.000000</td>\n",
       "      <td>0.000000</td>\n",
       "      <td>0.00000</td>\n",
       "      <td>0.000000</td>\n",
       "      <td>0.000000</td>\n",
       "      <td>0.000000</td>\n",
       "      <td>0.000000</td>\n",
       "      <td>0.000000</td>\n",
       "      <td>0.000000</td>\n",
       "      <td>0.000000</td>\n",
       "      <td>0.000000</td>\n",
       "      <td>-1.000000</td>\n",
       "      <td>0.000000</td>\n",
       "    </tr>\n",
       "    <tr>\n",
       "      <th>25%</th>\n",
       "      <td>0.000000</td>\n",
       "      <td>0.00000</td>\n",
       "      <td>0.000000</td>\n",
       "      <td>0.000000</td>\n",
       "      <td>0.00000</td>\n",
       "      <td>0.000000</td>\n",
       "      <td>0.000000</td>\n",
       "      <td>0.000000</td>\n",
       "      <td>0.000000</td>\n",
       "      <td>0.000000</td>\n",
       "      <td>0.000000</td>\n",
       "      <td>0.000000</td>\n",
       "      <td>42.000000</td>\n",
       "      <td>0.000000</td>\n",
       "      <td>0.000000</td>\n",
       "    </tr>\n",
       "    <tr>\n",
       "      <th>50%</th>\n",
       "      <td>0.000000</td>\n",
       "      <td>0.00000</td>\n",
       "      <td>0.000000</td>\n",
       "      <td>0.000000</td>\n",
       "      <td>0.00000</td>\n",
       "      <td>0.000000</td>\n",
       "      <td>0.000000</td>\n",
       "      <td>0.000000</td>\n",
       "      <td>0.000000</td>\n",
       "      <td>0.000000</td>\n",
       "      <td>1.000000</td>\n",
       "      <td>0.000000</td>\n",
       "      <td>51.000000</td>\n",
       "      <td>1.000000</td>\n",
       "      <td>1.000000</td>\n",
       "    </tr>\n",
       "    <tr>\n",
       "      <th>75%</th>\n",
       "      <td>1.000000</td>\n",
       "      <td>0.00000</td>\n",
       "      <td>1.000000</td>\n",
       "      <td>0.000000</td>\n",
       "      <td>0.00000</td>\n",
       "      <td>0.000000</td>\n",
       "      <td>0.000000</td>\n",
       "      <td>1.000000</td>\n",
       "      <td>1.000000</td>\n",
       "      <td>1.000000</td>\n",
       "      <td>1.000000</td>\n",
       "      <td>1.000000</td>\n",
       "      <td>60.000000</td>\n",
       "      <td>1.000000</td>\n",
       "      <td>1.000000</td>\n",
       "    </tr>\n",
       "    <tr>\n",
       "      <th>max</th>\n",
       "      <td>1.000000</td>\n",
       "      <td>1.00000</td>\n",
       "      <td>2.000000</td>\n",
       "      <td>1.000000</td>\n",
       "      <td>1.00000</td>\n",
       "      <td>1.000000</td>\n",
       "      <td>1.000000</td>\n",
       "      <td>1.000000</td>\n",
       "      <td>61.000000</td>\n",
       "      <td>53.000000</td>\n",
       "      <td>1.000000</td>\n",
       "      <td>1.000000</td>\n",
       "      <td>80.000000</td>\n",
       "      <td>1.000000</td>\n",
       "      <td>1.000000</td>\n",
       "    </tr>\n",
       "  </tbody>\n",
       "</table>\n",
       "</div>"
      ],
      "text/plain": [
       "           Chamber  Fiscal Note  Intro Election Status      New Act  \\\n",
       "count  2000.000000   2000.00000            2000.000000  2000.000000   \n",
       "mean      0.347500      0.02100               0.632500     0.070500   \n",
       "std       0.476295      0.14342               0.807942     0.256052   \n",
       "min       0.000000      0.00000               0.000000     0.000000   \n",
       "25%       0.000000      0.00000               0.000000     0.000000   \n",
       "50%       0.000000      0.00000               0.000000     0.000000   \n",
       "75%       1.000000      0.00000               1.000000     0.000000   \n",
       "max       1.000000      1.00000               2.000000     1.000000   \n",
       "\n",
       "         Pensions      Finance      Revenue  Reached Floor  \\\n",
       "count  2000.00000  2000.000000  2000.000000    2000.000000   \n",
       "mean      0.04800     0.106000     0.108500       0.321000   \n",
       "std       0.21382     0.307915     0.311089       0.466978   \n",
       "min       0.00000     0.000000     0.000000       0.000000   \n",
       "25%       0.00000     0.000000     0.000000       0.000000   \n",
       "50%       0.00000     0.000000     0.000000       0.000000   \n",
       "75%       0.00000     0.000000     0.000000       1.000000   \n",
       "max       1.00000     1.000000     1.000000       1.000000   \n",
       "\n",
       "       democraticCosponsor  republicanCosponsors  primaryParty  primaryRace  \\\n",
       "count          2000.000000           2000.000000   2000.000000  2000.000000   \n",
       "mean              1.977000              0.918000      0.638500     0.258000   \n",
       "std               5.153033              3.477114      0.480555     0.437643   \n",
       "min               0.000000              0.000000      0.000000     0.000000   \n",
       "25%               0.000000              0.000000      0.000000     0.000000   \n",
       "50%               0.000000              0.000000      1.000000     0.000000   \n",
       "75%               1.000000              1.000000      1.000000     1.000000   \n",
       "max              61.000000             53.000000      1.000000     1.000000   \n",
       "\n",
       "        primaryAge   primarySex  primaryIsLeader  \n",
       "count  2000.000000  2000.000000      2000.000000  \n",
       "mean     48.529000     0.647000         0.621500  \n",
       "std      17.782133     0.514318         0.485134  \n",
       "min       0.000000    -1.000000         0.000000  \n",
       "25%      42.000000     0.000000         0.000000  \n",
       "50%      51.000000     1.000000         1.000000  \n",
       "75%      60.000000     1.000000         1.000000  \n",
       "max      80.000000     1.000000         1.000000  "
      ]
     },
     "execution_count": 241,
     "metadata": {},
     "output_type": "execute_result"
    }
   ],
   "source": [
    "df1.describe()"
   ]
  },
  {
   "cell_type": "markdown",
   "metadata": {},
   "source": [
    "I will make plots of univariate distribution for each variable to detect any pattern or anomaly."
   ]
  },
  {
   "cell_type": "code",
   "execution_count": 247,
   "metadata": {},
   "outputs": [],
   "source": [
    "def make_plots(Vs):\n",
    "    col = 4\n",
    "    row = len(Vs)//4+1\n",
    "    plt.figure(figsize=(20,row*5))\n",
    "    idx = df1[~df1[Vs[0]].isna()].index\n",
    "    for i,v in enumerate(Vs):\n",
    "        plt.subplot(row,col,i+1)\n",
    "        n = df1[v].nunique()\n",
    "        x = np.sum(df1.loc[idx,v]!=df1.loc[idx,v].astype(int))\n",
    "        y = np.round(100*np.sum(df1[v].isna())/len(df1),2)\n",
    "        t = 'int'\n",
    "        if x!=0: t = 'float'\n",
    "        plt.title(v+' has '+str(n)+' '+t+' and '+str(y)+'% nan')\n",
    "        plt.yticks([])\n",
    "        h = plt.hist(df1.loc[idx,v],bins=100)\n",
    "        if len(h[0])>1: plt.ylim((0,np.sort(h[0])[-2]))\n",
    "    plt.show()"
   ]
  },
  {
   "cell_type": "code",
   "execution_count": 249,
   "metadata": {},
   "outputs": [
    {
     "data": {
      "image/png": "[encoded data removed]",
      "text/plain": [
       "<Figure size 1440x1440 with 15 Axes>"
      ]
     },
     "metadata": {
      "needs_background": "light"
     },
     "output_type": "display_data"
    }
   ],
   "source": [
    "make_plots(df1.columns[1:])"
   ]
  },
  {
   "cell_type": "markdown",
   "metadata": {},
   "source": [
    "Note: primarySex's -1 is actually NaN."
   ]
  },
  {
   "cell_type": "markdown",
   "metadata": {},
   "source": [
    "This plot below is an example of severe data imbalance among some predictor variables."
   ]
  },
  {
   "cell_type": "code",
   "execution_count": 252,
   "metadata": {},
   "outputs": [
    {
     "data": {
      "text/plain": [
       "<matplotlib.axes._subplots.AxesSubplot at 0x1ebac33eb00>"
      ]
     },
     "execution_count": 252,
     "metadata": {},
     "output_type": "execute_result"
    },
    {
     "data": {
      "image/png": "[encoded data removed]",
      "text/plain": [
       "<Figure size 432x288 with 1 Axes>"
      ]
     },
     "metadata": {
      "needs_background": "light"
     },
     "output_type": "display_data"
    }
   ],
   "source": [
    "df3 = df1['Fiscal Note'].value_counts().reset_index()\n",
    "df3.columns = ['value', 'counts']\n",
    "sns.barplot(x='value',y='counts',data=df3)"
   ]
  },
  {
   "cell_type": "markdown",
   "metadata": {},
   "source": [
    "As one can see 'Fiscal Note' variable is very imbalanced, and this may tell us if the variable is not informative enough because it does not have enough variance."
   ]
  },
  {
   "cell_type": "markdown",
   "metadata": {},
   "source": [
    "## Outlier\n",
    "\n",
    "We can notice 'primaryAge' variable has many 0 values, and this is an impossible value for age. So I assume this is actually missing value."
   ]
  },
  {
   "cell_type": "markdown",
   "metadata": {},
   "source": [
    "## Normality\n",
    "We can observe primaryAge has roughly bell-shaped, unimodal curve, if we exclude 0's. We also see that democratic cosponsors and republican cosponsors are very right skewed. Later we will make these features smoothed out using square root transform."
   ]
  },
  {
   "cell_type": "markdown",
   "metadata": {},
   "source": [
    "## Missing Values"
   ]
  },
  {
   "cell_type": "code",
   "execution_count": 255,
   "metadata": {},
   "outputs": [
    {
     "name": "stdout",
     "output_type": "stream",
     "text": [
      "####### NAN count = 0\n",
      "['newId', 'Chamber', 'Fiscal Note', 'Intro Election Status', 'New Act', 'Pensions', 'Finance', 'Revenue', 'Reached Floor', 'democraticCosponsor', 'republicanCosponsors', 'primaryParty', 'primaryRace', 'primaryAge', 'primaryIsLeader']\n",
      "####### NAN count = 36\n",
      "['primarySex']\n"
     ]
    }
   ],
   "source": [
    "nans_df = df2.isna()\n",
    "nans_groups={}\n",
    "for col in df2.columns:\n",
    "    cur_group = nans_df[col].sum()\n",
    "    try:\n",
    "        nans_groups[cur_group].append(col)\n",
    "    except:\n",
    "        nans_groups[cur_group]=[col]\n",
    "del nans_df; x=gc.collect()\n",
    "\n",
    "for k,v in nans_groups.items():\n",
    "    print('####### NAN count =',k)\n",
    "    print(v)"
   ]
  },
  {
   "cell_type": "markdown",
   "metadata": {},
   "source": [
    "'primarySex' variable has 36 rows of missing entries, and 'primaryAge' has about 150 0's. "
   ]
  },
  {
   "cell_type": "markdown",
   "metadata": {},
   "source": [
    "In order to deal with missing values, my logic is the following: <br>\n",
    "1. Check if data are missing completely at random. If this is the case, we can remove the rows without creating bias at the cost of losing only 2% of rows (if we only remove gender). However, deleting all 150 rows of age is going too far.\n",
    "2. There is no way to confidently check if data are missing at random or not at random, since information to determine this is missing. There are many ways to go about the missing value problem then. Since dataset is relatively small (2,000 rows) I do not want to delete missing rows, and will impute them."
   ]
  },
  {
   "cell_type": "markdown",
   "metadata": {},
   "source": [
    "#### Checking whether values are missing completely at random"
   ]
  },
  {
   "cell_type": "markdown",
   "metadata": {},
   "source": [
    "There are a few statistical methods to check this. One informal way is to check whether the distribution of other variables in the missing rows are a representative sample of the entire data."
   ]
  },
  {
   "cell_type": "code",
   "execution_count": 258,
   "metadata": {
    "scrolled": true
   },
   "outputs": [
    {
     "data": {
      "text/html": [
       "<div>\n",
       "<style scoped>\n",
       "    .dataframe tbody tr th:only-of-type {\n",
       "        vertical-align: middle;\n",
       "    }\n",
       "\n",
       "    .dataframe tbody tr th {\n",
       "        vertical-align: top;\n",
       "    }\n",
       "\n",
       "    .dataframe thead th {\n",
       "        text-align: right;\n",
       "    }\n",
       "</style>\n",
       "<table border=\"1\" class=\"dataframe\">\n",
       "  <thead>\n",
       "    <tr style=\"text-align: right;\">\n",
       "      <th></th>\n",
       "      <th>newId</th>\n",
       "      <th>Chamber</th>\n",
       "      <th>Fiscal Note</th>\n",
       "      <th>Intro Election Status</th>\n",
       "      <th>New Act</th>\n",
       "      <th>Pensions</th>\n",
       "      <th>Finance</th>\n",
       "      <th>Revenue</th>\n",
       "      <th>Reached Floor</th>\n",
       "      <th>democraticCosponsor</th>\n",
       "      <th>republicanCosponsors</th>\n",
       "      <th>primaryParty</th>\n",
       "      <th>primaryRace</th>\n",
       "      <th>primaryAge</th>\n",
       "      <th>primarySex</th>\n",
       "      <th>primaryIsLeader</th>\n",
       "    </tr>\n",
       "  </thead>\n",
       "  <tbody>\n",
       "    <tr>\n",
       "      <th>4</th>\n",
       "      <td>HB637-96</td>\n",
       "      <td>HB</td>\n",
       "      <td>0</td>\n",
       "      <td>0</td>\n",
       "      <td>0</td>\n",
       "      <td>0</td>\n",
       "      <td>0</td>\n",
       "      <td>0</td>\n",
       "      <td>0</td>\n",
       "      <td>1</td>\n",
       "      <td>0</td>\n",
       "      <td>R</td>\n",
       "      <td>0</td>\n",
       "      <td>0</td>\n",
       "      <td>NaN</td>\n",
       "      <td>No</td>\n",
       "    </tr>\n",
       "    <tr>\n",
       "      <th>20</th>\n",
       "      <td>SB751-100</td>\n",
       "      <td>SB</td>\n",
       "      <td>0</td>\n",
       "      <td>0</td>\n",
       "      <td>0</td>\n",
       "      <td>0</td>\n",
       "      <td>0</td>\n",
       "      <td>0</td>\n",
       "      <td>1</td>\n",
       "      <td>0</td>\n",
       "      <td>0</td>\n",
       "      <td>D</td>\n",
       "      <td>0</td>\n",
       "      <td>40</td>\n",
       "      <td>NaN</td>\n",
       "      <td>Yes</td>\n",
       "    </tr>\n",
       "    <tr>\n",
       "      <th>46</th>\n",
       "      <td>HB1193-97</td>\n",
       "      <td>HB</td>\n",
       "      <td>0</td>\n",
       "      <td>0</td>\n",
       "      <td>0</td>\n",
       "      <td>0</td>\n",
       "      <td>0</td>\n",
       "      <td>0</td>\n",
       "      <td>1</td>\n",
       "      <td>7</td>\n",
       "      <td>0</td>\n",
       "      <td>D</td>\n",
       "      <td>1</td>\n",
       "      <td>55</td>\n",
       "      <td>NaN</td>\n",
       "      <td>Yes</td>\n",
       "    </tr>\n",
       "    <tr>\n",
       "      <th>51</th>\n",
       "      <td>HB3523-101</td>\n",
       "      <td>HB</td>\n",
       "      <td>0</td>\n",
       "      <td>0</td>\n",
       "      <td>0</td>\n",
       "      <td>0</td>\n",
       "      <td>0</td>\n",
       "      <td>1</td>\n",
       "      <td>0</td>\n",
       "      <td>0</td>\n",
       "      <td>0</td>\n",
       "      <td>R</td>\n",
       "      <td>0</td>\n",
       "      <td>45</td>\n",
       "      <td>NaN</td>\n",
       "      <td>No</td>\n",
       "    </tr>\n",
       "    <tr>\n",
       "      <th>66</th>\n",
       "      <td>HB2967-100</td>\n",
       "      <td>HB</td>\n",
       "      <td>0</td>\n",
       "      <td>0</td>\n",
       "      <td>0</td>\n",
       "      <td>0</td>\n",
       "      <td>0</td>\n",
       "      <td>0</td>\n",
       "      <td>0</td>\n",
       "      <td>0</td>\n",
       "      <td>0</td>\n",
       "      <td>D</td>\n",
       "      <td>0</td>\n",
       "      <td>43</td>\n",
       "      <td>NaN</td>\n",
       "      <td>Yes</td>\n",
       "    </tr>\n",
       "    <tr>\n",
       "      <th>69</th>\n",
       "      <td>SB3235-101</td>\n",
       "      <td>SB</td>\n",
       "      <td>0</td>\n",
       "      <td>2</td>\n",
       "      <td>0</td>\n",
       "      <td>0</td>\n",
       "      <td>0</td>\n",
       "      <td>0</td>\n",
       "      <td>0</td>\n",
       "      <td>1</td>\n",
       "      <td>0</td>\n",
       "      <td>D</td>\n",
       "      <td>1</td>\n",
       "      <td>46</td>\n",
       "      <td>NaN</td>\n",
       "      <td>Yes</td>\n",
       "    </tr>\n",
       "    <tr>\n",
       "      <th>73</th>\n",
       "      <td>HB5832-97</td>\n",
       "      <td>HB</td>\n",
       "      <td>0</td>\n",
       "      <td>2</td>\n",
       "      <td>0</td>\n",
       "      <td>0</td>\n",
       "      <td>0</td>\n",
       "      <td>0</td>\n",
       "      <td>0</td>\n",
       "      <td>0</td>\n",
       "      <td>0</td>\n",
       "      <td>R</td>\n",
       "      <td>0</td>\n",
       "      <td>63</td>\n",
       "      <td>NaN</td>\n",
       "      <td>No</td>\n",
       "    </tr>\n",
       "    <tr>\n",
       "      <th>94</th>\n",
       "      <td>HB3919-101</td>\n",
       "      <td>HB</td>\n",
       "      <td>0</td>\n",
       "      <td>0</td>\n",
       "      <td>0</td>\n",
       "      <td>1</td>\n",
       "      <td>0</td>\n",
       "      <td>0</td>\n",
       "      <td>0</td>\n",
       "      <td>0</td>\n",
       "      <td>1</td>\n",
       "      <td>R</td>\n",
       "      <td>1</td>\n",
       "      <td>45</td>\n",
       "      <td>NaN</td>\n",
       "      <td>No</td>\n",
       "    </tr>\n",
       "    <tr>\n",
       "      <th>128</th>\n",
       "      <td>HB4344-101</td>\n",
       "      <td>HB</td>\n",
       "      <td>0</td>\n",
       "      <td>2</td>\n",
       "      <td>0</td>\n",
       "      <td>0</td>\n",
       "      <td>0</td>\n",
       "      <td>0</td>\n",
       "      <td>0</td>\n",
       "      <td>0</td>\n",
       "      <td>1</td>\n",
       "      <td>R</td>\n",
       "      <td>1</td>\n",
       "      <td>63</td>\n",
       "      <td>NaN</td>\n",
       "      <td>No</td>\n",
       "    </tr>\n",
       "    <tr>\n",
       "      <th>183</th>\n",
       "      <td>SB3449-101</td>\n",
       "      <td>SB</td>\n",
       "      <td>0</td>\n",
       "      <td>2</td>\n",
       "      <td>1</td>\n",
       "      <td>0</td>\n",
       "      <td>0</td>\n",
       "      <td>0</td>\n",
       "      <td>0</td>\n",
       "      <td>1</td>\n",
       "      <td>0</td>\n",
       "      <td>D</td>\n",
       "      <td>0</td>\n",
       "      <td>34</td>\n",
       "      <td>NaN</td>\n",
       "      <td>No</td>\n",
       "    </tr>\n",
       "    <tr>\n",
       "      <th>236</th>\n",
       "      <td>SB1580-100</td>\n",
       "      <td>SB</td>\n",
       "      <td>0</td>\n",
       "      <td>0</td>\n",
       "      <td>0</td>\n",
       "      <td>0</td>\n",
       "      <td>0</td>\n",
       "      <td>0</td>\n",
       "      <td>1</td>\n",
       "      <td>0</td>\n",
       "      <td>0</td>\n",
       "      <td>R</td>\n",
       "      <td>1</td>\n",
       "      <td>36</td>\n",
       "      <td>NaN</td>\n",
       "      <td>No</td>\n",
       "    </tr>\n",
       "    <tr>\n",
       "      <th>274</th>\n",
       "      <td>HB433-100</td>\n",
       "      <td>HB</td>\n",
       "      <td>0</td>\n",
       "      <td>0</td>\n",
       "      <td>0</td>\n",
       "      <td>0</td>\n",
       "      <td>0</td>\n",
       "      <td>0</td>\n",
       "      <td>0</td>\n",
       "      <td>0</td>\n",
       "      <td>0</td>\n",
       "      <td>R</td>\n",
       "      <td>1</td>\n",
       "      <td>51</td>\n",
       "      <td>NaN</td>\n",
       "      <td>No</td>\n",
       "    </tr>\n",
       "    <tr>\n",
       "      <th>329</th>\n",
       "      <td>HB4480-100</td>\n",
       "      <td>HB</td>\n",
       "      <td>0</td>\n",
       "      <td>1</td>\n",
       "      <td>0</td>\n",
       "      <td>0</td>\n",
       "      <td>0</td>\n",
       "      <td>1</td>\n",
       "      <td>0</td>\n",
       "      <td>0</td>\n",
       "      <td>0</td>\n",
       "      <td>R</td>\n",
       "      <td>0</td>\n",
       "      <td>46</td>\n",
       "      <td>NaN</td>\n",
       "      <td>No</td>\n",
       "    </tr>\n",
       "    <tr>\n",
       "      <th>353</th>\n",
       "      <td>HB3113-100</td>\n",
       "      <td>HB</td>\n",
       "      <td>0</td>\n",
       "      <td>0</td>\n",
       "      <td>0</td>\n",
       "      <td>0</td>\n",
       "      <td>0</td>\n",
       "      <td>0</td>\n",
       "      <td>0</td>\n",
       "      <td>0</td>\n",
       "      <td>0</td>\n",
       "      <td>R</td>\n",
       "      <td>1</td>\n",
       "      <td>48</td>\n",
       "      <td>NaN</td>\n",
       "      <td>No</td>\n",
       "    </tr>\n",
       "    <tr>\n",
       "      <th>385</th>\n",
       "      <td>HB5889-96</td>\n",
       "      <td>HB</td>\n",
       "      <td>0</td>\n",
       "      <td>1</td>\n",
       "      <td>0</td>\n",
       "      <td>0</td>\n",
       "      <td>0</td>\n",
       "      <td>0</td>\n",
       "      <td>0</td>\n",
       "      <td>0</td>\n",
       "      <td>3</td>\n",
       "      <td>R</td>\n",
       "      <td>1</td>\n",
       "      <td>64</td>\n",
       "      <td>NaN</td>\n",
       "      <td>No</td>\n",
       "    </tr>\n",
       "    <tr>\n",
       "      <th>441</th>\n",
       "      <td>HB4586-100</td>\n",
       "      <td>HB</td>\n",
       "      <td>0</td>\n",
       "      <td>1</td>\n",
       "      <td>0</td>\n",
       "      <td>0</td>\n",
       "      <td>0</td>\n",
       "      <td>0</td>\n",
       "      <td>0</td>\n",
       "      <td>21</td>\n",
       "      <td>43</td>\n",
       "      <td>R</td>\n",
       "      <td>1</td>\n",
       "      <td>35</td>\n",
       "      <td>NaN</td>\n",
       "      <td>No</td>\n",
       "    </tr>\n",
       "    <tr>\n",
       "      <th>443</th>\n",
       "      <td>HB73-96</td>\n",
       "      <td>HB</td>\n",
       "      <td>0</td>\n",
       "      <td>0</td>\n",
       "      <td>0</td>\n",
       "      <td>0</td>\n",
       "      <td>0</td>\n",
       "      <td>0</td>\n",
       "      <td>0</td>\n",
       "      <td>5</td>\n",
       "      <td>0</td>\n",
       "      <td>R</td>\n",
       "      <td>0</td>\n",
       "      <td>0</td>\n",
       "      <td>NaN</td>\n",
       "      <td>No</td>\n",
       "    </tr>\n",
       "    <tr>\n",
       "      <th>506</th>\n",
       "      <td>HB4334-100</td>\n",
       "      <td>HB</td>\n",
       "      <td>0</td>\n",
       "      <td>1</td>\n",
       "      <td>0</td>\n",
       "      <td>0</td>\n",
       "      <td>0</td>\n",
       "      <td>0</td>\n",
       "      <td>0</td>\n",
       "      <td>0</td>\n",
       "      <td>0</td>\n",
       "      <td>R</td>\n",
       "      <td>1</td>\n",
       "      <td>58</td>\n",
       "      <td>NaN</td>\n",
       "      <td>No</td>\n",
       "    </tr>\n",
       "    <tr>\n",
       "      <th>555</th>\n",
       "      <td>SB2299-100</td>\n",
       "      <td>SB</td>\n",
       "      <td>0</td>\n",
       "      <td>1</td>\n",
       "      <td>0</td>\n",
       "      <td>0</td>\n",
       "      <td>0</td>\n",
       "      <td>0</td>\n",
       "      <td>1</td>\n",
       "      <td>0</td>\n",
       "      <td>1</td>\n",
       "      <td>R</td>\n",
       "      <td>1</td>\n",
       "      <td>61</td>\n",
       "      <td>NaN</td>\n",
       "      <td>No</td>\n",
       "    </tr>\n",
       "    <tr>\n",
       "      <th>584</th>\n",
       "      <td>HB2937-99</td>\n",
       "      <td>HB</td>\n",
       "      <td>0</td>\n",
       "      <td>0</td>\n",
       "      <td>1</td>\n",
       "      <td>0</td>\n",
       "      <td>0</td>\n",
       "      <td>0</td>\n",
       "      <td>0</td>\n",
       "      <td>1</td>\n",
       "      <td>1</td>\n",
       "      <td>R</td>\n",
       "      <td>1</td>\n",
       "      <td>46</td>\n",
       "      <td>NaN</td>\n",
       "      <td>No</td>\n",
       "    </tr>\n",
       "    <tr>\n",
       "      <th>615</th>\n",
       "      <td>HB2516-101</td>\n",
       "      <td>HB</td>\n",
       "      <td>0</td>\n",
       "      <td>0</td>\n",
       "      <td>0</td>\n",
       "      <td>0</td>\n",
       "      <td>1</td>\n",
       "      <td>0</td>\n",
       "      <td>0</td>\n",
       "      <td>0</td>\n",
       "      <td>0</td>\n",
       "      <td>R</td>\n",
       "      <td>1</td>\n",
       "      <td>47</td>\n",
       "      <td>NaN</td>\n",
       "      <td>No</td>\n",
       "    </tr>\n",
       "    <tr>\n",
       "      <th>770</th>\n",
       "      <td>SB1653-96</td>\n",
       "      <td>SB</td>\n",
       "      <td>0</td>\n",
       "      <td>0</td>\n",
       "      <td>0</td>\n",
       "      <td>1</td>\n",
       "      <td>1</td>\n",
       "      <td>0</td>\n",
       "      <td>0</td>\n",
       "      <td>0</td>\n",
       "      <td>0</td>\n",
       "      <td>D</td>\n",
       "      <td>0</td>\n",
       "      <td>0</td>\n",
       "      <td>NaN</td>\n",
       "      <td>No</td>\n",
       "    </tr>\n",
       "    <tr>\n",
       "      <th>777</th>\n",
       "      <td>HB6187-96</td>\n",
       "      <td>HB</td>\n",
       "      <td>0</td>\n",
       "      <td>1</td>\n",
       "      <td>0</td>\n",
       "      <td>0</td>\n",
       "      <td>0</td>\n",
       "      <td>0</td>\n",
       "      <td>0</td>\n",
       "      <td>0</td>\n",
       "      <td>0</td>\n",
       "      <td>R</td>\n",
       "      <td>0</td>\n",
       "      <td>0</td>\n",
       "      <td>NaN</td>\n",
       "      <td>No</td>\n",
       "    </tr>\n",
       "    <tr>\n",
       "      <th>918</th>\n",
       "      <td>HB5785-97</td>\n",
       "      <td>HB</td>\n",
       "      <td>0</td>\n",
       "      <td>2</td>\n",
       "      <td>0</td>\n",
       "      <td>0</td>\n",
       "      <td>0</td>\n",
       "      <td>0</td>\n",
       "      <td>0</td>\n",
       "      <td>0</td>\n",
       "      <td>0</td>\n",
       "      <td>R</td>\n",
       "      <td>0</td>\n",
       "      <td>63</td>\n",
       "      <td>NaN</td>\n",
       "      <td>No</td>\n",
       "    </tr>\n",
       "    <tr>\n",
       "      <th>974</th>\n",
       "      <td>HB2248-96</td>\n",
       "      <td>HB</td>\n",
       "      <td>0</td>\n",
       "      <td>0</td>\n",
       "      <td>0</td>\n",
       "      <td>0</td>\n",
       "      <td>1</td>\n",
       "      <td>0</td>\n",
       "      <td>0</td>\n",
       "      <td>9</td>\n",
       "      <td>1</td>\n",
       "      <td>D</td>\n",
       "      <td>0</td>\n",
       "      <td>0</td>\n",
       "      <td>NaN</td>\n",
       "      <td>No</td>\n",
       "    </tr>\n",
       "    <tr>\n",
       "      <th>1009</th>\n",
       "      <td>HB827-96</td>\n",
       "      <td>HB</td>\n",
       "      <td>0</td>\n",
       "      <td>0</td>\n",
       "      <td>0</td>\n",
       "      <td>0</td>\n",
       "      <td>0</td>\n",
       "      <td>1</td>\n",
       "      <td>0</td>\n",
       "      <td>0</td>\n",
       "      <td>0</td>\n",
       "      <td>R</td>\n",
       "      <td>0</td>\n",
       "      <td>0</td>\n",
       "      <td>NaN</td>\n",
       "      <td>No</td>\n",
       "    </tr>\n",
       "    <tr>\n",
       "      <th>1169</th>\n",
       "      <td>HB5188-96</td>\n",
       "      <td>HB</td>\n",
       "      <td>0</td>\n",
       "      <td>1</td>\n",
       "      <td>0</td>\n",
       "      <td>0</td>\n",
       "      <td>0</td>\n",
       "      <td>0</td>\n",
       "      <td>0</td>\n",
       "      <td>2</td>\n",
       "      <td>0</td>\n",
       "      <td>D</td>\n",
       "      <td>0</td>\n",
       "      <td>0</td>\n",
       "      <td>NaN</td>\n",
       "      <td>No</td>\n",
       "    </tr>\n",
       "    <tr>\n",
       "      <th>1320</th>\n",
       "      <td>HB6241-96</td>\n",
       "      <td>HB</td>\n",
       "      <td>0</td>\n",
       "      <td>1</td>\n",
       "      <td>1</td>\n",
       "      <td>0</td>\n",
       "      <td>0</td>\n",
       "      <td>1</td>\n",
       "      <td>1</td>\n",
       "      <td>4</td>\n",
       "      <td>2</td>\n",
       "      <td>R</td>\n",
       "      <td>0</td>\n",
       "      <td>0</td>\n",
       "      <td>NaN</td>\n",
       "      <td>No</td>\n",
       "    </tr>\n",
       "    <tr>\n",
       "      <th>1368</th>\n",
       "      <td>SB1623-96</td>\n",
       "      <td>SB</td>\n",
       "      <td>0</td>\n",
       "      <td>0</td>\n",
       "      <td>0</td>\n",
       "      <td>0</td>\n",
       "      <td>0</td>\n",
       "      <td>1</td>\n",
       "      <td>1</td>\n",
       "      <td>2</td>\n",
       "      <td>0</td>\n",
       "      <td>R</td>\n",
       "      <td>0</td>\n",
       "      <td>0</td>\n",
       "      <td>NaN</td>\n",
       "      <td>No</td>\n",
       "    </tr>\n",
       "    <tr>\n",
       "      <th>1455</th>\n",
       "      <td>HB5249-97</td>\n",
       "      <td>HB</td>\n",
       "      <td>0</td>\n",
       "      <td>2</td>\n",
       "      <td>0</td>\n",
       "      <td>0</td>\n",
       "      <td>0</td>\n",
       "      <td>0</td>\n",
       "      <td>0</td>\n",
       "      <td>0</td>\n",
       "      <td>0</td>\n",
       "      <td>D</td>\n",
       "      <td>0</td>\n",
       "      <td>0</td>\n",
       "      <td>NaN</td>\n",
       "      <td>No</td>\n",
       "    </tr>\n",
       "    <tr>\n",
       "      <th>1519</th>\n",
       "      <td>HB4737-96</td>\n",
       "      <td>HB</td>\n",
       "      <td>0</td>\n",
       "      <td>0</td>\n",
       "      <td>0</td>\n",
       "      <td>0</td>\n",
       "      <td>0</td>\n",
       "      <td>0</td>\n",
       "      <td>1</td>\n",
       "      <td>9</td>\n",
       "      <td>3</td>\n",
       "      <td>D</td>\n",
       "      <td>0</td>\n",
       "      <td>0</td>\n",
       "      <td>NaN</td>\n",
       "      <td>No</td>\n",
       "    </tr>\n",
       "    <tr>\n",
       "      <th>1624</th>\n",
       "      <td>SB932-96</td>\n",
       "      <td>SB</td>\n",
       "      <td>0</td>\n",
       "      <td>0</td>\n",
       "      <td>0</td>\n",
       "      <td>0</td>\n",
       "      <td>0</td>\n",
       "      <td>0</td>\n",
       "      <td>1</td>\n",
       "      <td>2</td>\n",
       "      <td>0</td>\n",
       "      <td>D</td>\n",
       "      <td>0</td>\n",
       "      <td>0</td>\n",
       "      <td>NaN</td>\n",
       "      <td>No</td>\n",
       "    </tr>\n",
       "    <tr>\n",
       "      <th>1756</th>\n",
       "      <td>HB826-96</td>\n",
       "      <td>HB</td>\n",
       "      <td>0</td>\n",
       "      <td>0</td>\n",
       "      <td>0</td>\n",
       "      <td>0</td>\n",
       "      <td>0</td>\n",
       "      <td>1</td>\n",
       "      <td>0</td>\n",
       "      <td>0</td>\n",
       "      <td>0</td>\n",
       "      <td>R</td>\n",
       "      <td>0</td>\n",
       "      <td>0</td>\n",
       "      <td>NaN</td>\n",
       "      <td>No</td>\n",
       "    </tr>\n",
       "    <tr>\n",
       "      <th>1804</th>\n",
       "      <td>HB5369-96</td>\n",
       "      <td>HB</td>\n",
       "      <td>0</td>\n",
       "      <td>1</td>\n",
       "      <td>0</td>\n",
       "      <td>0</td>\n",
       "      <td>0</td>\n",
       "      <td>0</td>\n",
       "      <td>0</td>\n",
       "      <td>0</td>\n",
       "      <td>0</td>\n",
       "      <td>D</td>\n",
       "      <td>0</td>\n",
       "      <td>0</td>\n",
       "      <td>NaN</td>\n",
       "      <td>No</td>\n",
       "    </tr>\n",
       "    <tr>\n",
       "      <th>1810</th>\n",
       "      <td>HB4910-96</td>\n",
       "      <td>HB</td>\n",
       "      <td>0</td>\n",
       "      <td>1</td>\n",
       "      <td>0</td>\n",
       "      <td>0</td>\n",
       "      <td>0</td>\n",
       "      <td>0</td>\n",
       "      <td>1</td>\n",
       "      <td>0</td>\n",
       "      <td>0</td>\n",
       "      <td>D</td>\n",
       "      <td>0</td>\n",
       "      <td>0</td>\n",
       "      <td>NaN</td>\n",
       "      <td>No</td>\n",
       "    </tr>\n",
       "    <tr>\n",
       "      <th>1911</th>\n",
       "      <td>SB1983-96</td>\n",
       "      <td>SB</td>\n",
       "      <td>0</td>\n",
       "      <td>0</td>\n",
       "      <td>0</td>\n",
       "      <td>0</td>\n",
       "      <td>0</td>\n",
       "      <td>0</td>\n",
       "      <td>0</td>\n",
       "      <td>0</td>\n",
       "      <td>0</td>\n",
       "      <td>R</td>\n",
       "      <td>0</td>\n",
       "      <td>0</td>\n",
       "      <td>NaN</td>\n",
       "      <td>No</td>\n",
       "    </tr>\n",
       "  </tbody>\n",
       "</table>\n",
       "</div>"
      ],
      "text/plain": [
       "           newId Chamber  Fiscal Note  Intro Election Status  New Act  \\\n",
       "4       HB637-96      HB            0                      0        0   \n",
       "20     SB751-100      SB            0                      0        0   \n",
       "46     HB1193-97      HB            0                      0        0   \n",
       "51    HB3523-101      HB            0                      0        0   \n",
       "66    HB2967-100      HB            0                      0        0   \n",
       "69    SB3235-101      SB            0                      2        0   \n",
       "73     HB5832-97      HB            0                      2        0   \n",
       "94    HB3919-101      HB            0                      0        0   \n",
       "128   HB4344-101      HB            0                      2        0   \n",
       "183   SB3449-101      SB            0                      2        1   \n",
       "236   SB1580-100      SB            0                      0        0   \n",
       "274    HB433-100      HB            0                      0        0   \n",
       "329   HB4480-100      HB            0                      1        0   \n",
       "353   HB3113-100      HB            0                      0        0   \n",
       "385    HB5889-96      HB            0                      1        0   \n",
       "441   HB4586-100      HB            0                      1        0   \n",
       "443      HB73-96      HB            0                      0        0   \n",
       "506   HB4334-100      HB            0                      1        0   \n",
       "555   SB2299-100      SB            0                      1        0   \n",
       "584    HB2937-99      HB            0                      0        1   \n",
       "615   HB2516-101      HB            0                      0        0   \n",
       "770    SB1653-96      SB            0                      0        0   \n",
       "777    HB6187-96      HB            0                      1        0   \n",
       "918    HB5785-97      HB            0                      2        0   \n",
       "974    HB2248-96      HB            0                      0        0   \n",
       "1009    HB827-96      HB            0                      0        0   \n",
       "1169   HB5188-96      HB            0                      1        0   \n",
       "1320   HB6241-96      HB            0                      1        1   \n",
       "1368   SB1623-96      SB            0                      0        0   \n",
       "1455   HB5249-97      HB            0                      2        0   \n",
       "1519   HB4737-96      HB            0                      0        0   \n",
       "1624    SB932-96      SB            0                      0        0   \n",
       "1756    HB826-96      HB            0                      0        0   \n",
       "1804   HB5369-96      HB            0                      1        0   \n",
       "1810   HB4910-96      HB            0                      1        0   \n",
       "1911   SB1983-96      SB            0                      0        0   \n",
       "\n",
       "      Pensions  Finance  Revenue  Reached Floor  democraticCosponsor  \\\n",
       "4            0        0        0              0                    1   \n",
       "20           0        0        0              1                    0   \n",
       "46           0        0        0              1                    7   \n",
       "51           0        0        1              0                    0   \n",
       "66           0        0        0              0                    0   \n",
       "69           0        0        0              0                    1   \n",
       "73           0        0        0              0                    0   \n",
       "94           1        0        0              0                    0   \n",
       "128          0        0        0              0                    0   \n",
       "183          0        0        0              0                    1   \n",
       "236          0        0        0              1                    0   \n",
       "274          0        0        0              0                    0   \n",
       "329          0        0        1              0                    0   \n",
       "353          0        0        0              0                    0   \n",
       "385          0        0        0              0                    0   \n",
       "441          0        0        0              0                   21   \n",
       "443          0        0        0              0                    5   \n",
       "506          0        0        0              0                    0   \n",
       "555          0        0        0              1                    0   \n",
       "584          0        0        0              0                    1   \n",
       "615          0        1        0              0                    0   \n",
       "770          1        1        0              0                    0   \n",
       "777          0        0        0              0                    0   \n",
       "918          0        0        0              0                    0   \n",
       "974          0        1        0              0                    9   \n",
       "1009         0        0        1              0                    0   \n",
       "1169         0        0        0              0                    2   \n",
       "1320         0        0        1              1                    4   \n",
       "1368         0        0        1              1                    2   \n",
       "1455         0        0        0              0                    0   \n",
       "1519         0        0        0              1                    9   \n",
       "1624         0        0        0              1                    2   \n",
       "1756         0        0        1              0                    0   \n",
       "1804         0        0        0              0                    0   \n",
       "1810         0        0        0              1                    0   \n",
       "1911         0        0        0              0                    0   \n",
       "\n",
       "      republicanCosponsors primaryParty  primaryRace  primaryAge primarySex  \\\n",
       "4                        0            R            0           0        NaN   \n",
       "20                       0            D            0          40        NaN   \n",
       "46                       0            D            1          55        NaN   \n",
       "51                       0            R            0          45        NaN   \n",
       "66                       0            D            0          43        NaN   \n",
       "69                       0            D            1          46        NaN   \n",
       "73                       0            R            0          63        NaN   \n",
       "94                       1            R            1          45        NaN   \n",
       "128                      1            R            1          63        NaN   \n",
       "183                      0            D            0          34        NaN   \n",
       "236                      0            R            1          36        NaN   \n",
       "274                      0            R            1          51        NaN   \n",
       "329                      0            R            0          46        NaN   \n",
       "353                      0            R            1          48        NaN   \n",
       "385                      3            R            1          64        NaN   \n",
       "441                     43            R            1          35        NaN   \n",
       "443                      0            R            0           0        NaN   \n",
       "506                      0            R            1          58        NaN   \n",
       "555                      1            R            1          61        NaN   \n",
       "584                      1            R            1          46        NaN   \n",
       "615                      0            R            1          47        NaN   \n",
       "770                      0            D            0           0        NaN   \n",
       "777                      0            R            0           0        NaN   \n",
       "918                      0            R            0          63        NaN   \n",
       "974                      1            D            0           0        NaN   \n",
       "1009                     0            R            0           0        NaN   \n",
       "1169                     0            D            0           0        NaN   \n",
       "1320                     2            R            0           0        NaN   \n",
       "1368                     0            R            0           0        NaN   \n",
       "1455                     0            D            0           0        NaN   \n",
       "1519                     3            D            0           0        NaN   \n",
       "1624                     0            D            0           0        NaN   \n",
       "1756                     0            R            0           0        NaN   \n",
       "1804                     0            D            0           0        NaN   \n",
       "1810                     0            D            0           0        NaN   \n",
       "1911                     0            R            0           0        NaN   \n",
       "\n",
       "     primaryIsLeader  \n",
       "4                 No  \n",
       "20               Yes  \n",
       "46               Yes  \n",
       "51                No  \n",
       "66               Yes  \n",
       "69               Yes  \n",
       "73                No  \n",
       "94                No  \n",
       "128               No  \n",
       "183               No  \n",
       "236               No  \n",
       "274               No  \n",
       "329               No  \n",
       "353               No  \n",
       "385               No  \n",
       "441               No  \n",
       "443               No  \n",
       "506               No  \n",
       "555               No  \n",
       "584               No  \n",
       "615               No  \n",
       "770               No  \n",
       "777               No  \n",
       "918               No  \n",
       "974               No  \n",
       "1009              No  \n",
       "1169              No  \n",
       "1320              No  \n",
       "1368              No  \n",
       "1455              No  \n",
       "1519              No  \n",
       "1624              No  \n",
       "1756              No  \n",
       "1804              No  \n",
       "1810              No  \n",
       "1911              No  "
      ]
     },
     "execution_count": 258,
     "metadata": {},
     "output_type": "execute_result"
    }
   ],
   "source": [
    "# subset of data with gender missing\n",
    "df2[df2.isna().any(axis=1)]"
   ]
  },
  {
   "cell_type": "markdown",
   "metadata": {},
   "source": [
    "Almost the majority of missing values has age = 0, but this is not representative of the data. We can reject the null hypothesis that the gender variable is missing completely at random."
   ]
  },
  {
   "cell_type": "markdown",
   "metadata": {},
   "source": [
    "### Just Delete the Columns?\n",
    "Later in the model, it turns out these two variables are not important in the final model, so we can also consider dropping these variables entirely.\n"
   ]
  },
  {
   "cell_type": "markdown",
   "metadata": {},
   "source": [
    "### Why are gender and age missing?\n",
    "Age and gender information should not be hard to find out about the primary sponsor since they are public figures with high visibility. So, it is hard to conjecture why these values can be missing in systematic pattern and I suspect hey could really be missing at random due to data entry error. Regardless, as I said earlier, deleting missing rows does not seem to be a strategic decision, and I will impute the missing values."
   ]
  },
  {
   "cell_type": "markdown",
   "metadata": {},
   "source": [
    "# Bivariate Relationships"
   ]
  },
  {
   "cell_type": "markdown",
   "metadata": {},
   "source": [
    "## Correlation Among Variables - Checking for Multicollinearity"
   ]
  },
  {
   "cell_type": "code",
   "execution_count": 265,
   "metadata": {},
   "outputs": [],
   "source": [
    "def make_corr(Vs,Vtitle=''):\n",
    "    cols = Vs\n",
    "    plt.figure(figsize=(17,17))\n",
    "    sns.heatmap(df1[cols].corr(), cmap='RdBu_r', annot=True, center=0.0)\n",
    "    if Vtitle!='': plt.title(Vtitle,fontsize=14)\n",
    "    else: plt.title(Vs[0]+' - '+Vs[-1],fontsize=14)\n",
    "    plt.show()"
   ]
  },
  {
   "cell_type": "code",
   "execution_count": 266,
   "metadata": {},
   "outputs": [
    {
     "data": {
      "image/png": "[encoded data removed]",
      "text/plain": [
       "<Figure size 1224x1224 with 2 Axes>"
      ]
     },
     "metadata": {
      "needs_background": "light"
     },
     "output_type": "display_data"
    }
   ],
   "source": [
    "make_corr(df1.columns[1:])"
   ]
  },
  {
   "cell_type": "markdown",
   "metadata": {},
   "source": [
    "No evidence of strong correlation exists among all the variables (>0.75) to combine, reduce-dimensionality, or remove any redundant variables."
   ]
  },
  {
   "cell_type": "markdown",
   "metadata": {},
   "source": [
    "One thing I notice is that the number of cosponsors has the highest correlations with Reached Floor. On the other hand, binary variables like Fiscal Note, Pension, and Finance have barely any correlations, which may arise from the fact that they are near zero-variance variables and have little information in them."
   ]
  },
  {
   "cell_type": "markdown",
   "metadata": {},
   "source": [
    "# Feature Engineering"
   ]
  },
  {
   "cell_type": "markdown",
   "metadata": {},
   "source": [
    "### Id columns - the last digits\n",
    "One thing I noticed is that the last digits of id's have only values from 97 to 101, so I created this variable but later dropped it in the final model."
   ]
  },
  {
   "cell_type": "code",
   "execution_count": null,
   "metadata": {},
   "outputs": [],
   "source": [
    "def last_number(s):\n",
    "    result = re.findall('\\d+(?!.*-)', s)\n",
    "    result = ''.join(result)\n",
    "    return(result)"
   ]
  },
  {
   "cell_type": "code",
   "execution_count": null,
   "metadata": {},
   "outputs": [],
   "source": [
    "df['id_digits'] = df['newId'].apply(last_number)"
   ]
  },
  {
   "cell_type": "markdown",
   "metadata": {},
   "source": [
    "### Interaction Variables\n",
    "bipartisan support: I hypothesize that a bill with bipartisan support will more likely reach a floor.\n",
    "#### 1 = when there are more than 1 cosponsor ffrom each party, 0 = else"
   ]
  },
  {
   "cell_type": "code",
   "execution_count": 14,
   "metadata": {},
   "outputs": [],
   "source": [
    "def bipartisan(dem,rep):\n",
    "    if dem > 0 and rep >0:\n",
    "        return(1)\n",
    "    else:\n",
    "        return(0)"
   ]
  },
  {
   "cell_type": "code",
   "execution_count": 15,
   "metadata": {},
   "outputs": [],
   "source": [
    "df['bipartisan'] = np.vectorize(bipartisan)(df['democraticCosponsor'],df['republicanCosponsors'])"
   ]
  },
  {
   "cell_type": "markdown",
   "metadata": {},
   "source": [
    "### One Hot Encoding Categorical Variables"
   ]
  },
  {
   "cell_type": "markdown",
   "metadata": {},
   "source": [
    "For modeling purpose, we one hot encode all the categorical variables."
   ]
  },
  {
   "cell_type": "code",
   "execution_count": 16,
   "metadata": {},
   "outputs": [],
   "source": [
    "# All the missing observations are grouped in the newly created label ‘Missing’. It does not assume anything on the missingness of the values. \n",
    "df = pd.concat([df, pd.get_dummies(df['primarySex'], prefix='primarySex',dummy_na=True)], axis=1) \n",
    "df = pd.concat([df, pd.get_dummies(df['Intro Election Status'], prefix='Election_Status')], axis=1)\n",
    "df.drop(['primarySex'],axis=1, inplace=True)\n",
    "df.drop(['Intro Election Status'],axis=1, inplace=True)"
   ]
  },
  {
   "cell_type": "code",
   "execution_count": 275,
   "metadata": {},
   "outputs": [
    {
     "data": {
      "text/plain": [
       "Index(['newId', 'Fiscal Note', 'New Act', 'Pensions', 'Finance', 'Revenue',\n",
       "       'Reached Floor', 'democraticCosponsor', 'republicanCosponsors',\n",
       "       'primaryRace', 'bipartisan', 'primarySex_Female', 'primarySex_Male',\n",
       "       'primarySex_nan', 'Chamber_HB', 'Chamber_SB', 'Election_Status_0',\n",
       "       'Election_Status_1', 'Election_Status_2', 'primaryParty_D',\n",
       "       'primaryParty_R', 'primaryIsLeader_No', 'primaryIsLeader_Yes',\n",
       "       'primaryAge_missing', 'primaryAge_twenties', 'primaryAge_thirties',\n",
       "       'primaryAge_fourties', 'primaryAge_fifties', 'primaryAge_sixties',\n",
       "       'primaryAge_seventies'],\n",
       "      dtype='object')"
      ]
     },
     "execution_count": 275,
     "metadata": {},
     "output_type": "execute_result"
    }
   ],
   "source": [
    "df.columns"
   ]
  },
  {
   "cell_type": "code",
   "execution_count": null,
   "metadata": {},
   "outputs": [],
   "source": [
    "# Label encode the following variables\n",
    "cols = ['Chamber','primaryParty','primaryIsLeader']\n",
    "for col in cols:\n",
    "    df[col],_ = df1[col].factorize()"
   ]
  },
  {
   "cell_type": "markdown",
   "metadata": {},
   "source": [
    "### Avoid Overidentification"
   ]
  },
  {
   "cell_type": "markdown",
   "metadata": {},
   "source": [
    "Delete kth column to avoid linear dependency of design matrix."
   ]
  },
  {
   "cell_type": "code",
   "execution_count": null,
   "metadata": {
    "scrolled": false
   },
   "outputs": [],
   "source": [
    "df.drop(['primarySex_nan'], axis=1) \n",
    "df.drop(['Election_Status_2'], axis=1)"
   ]
  },
  {
   "cell_type": "markdown",
   "metadata": {},
   "source": [
    "### Power Transform Democratic and Republican Cosponsors"
   ]
  },
  {
   "cell_type": "markdown",
   "metadata": {},
   "source": [
    "In order to smooth out the skewness of Democratic and Republican cosponsors, I use the square root transform. The variables are still skewed but less pronouncedly so."
   ]
  },
  {
   "cell_type": "code",
   "execution_count": 17,
   "metadata": {},
   "outputs": [],
   "source": [
    "df['democraticCosponsor'] = df.democraticCosponsor**(1/2)\n",
    "df['republicanCosponsors'] = df.republicanCosponsors**(1/2)"
   ]
  },
  {
   "cell_type": "code",
   "execution_count": 20,
   "metadata": {},
   "outputs": [
    {
     "data": {
      "text/plain": [
       "<matplotlib.axes._subplots.AxesSubplot at 0x1eb9f081ba8>"
      ]
     },
     "execution_count": 20,
     "metadata": {},
     "output_type": "execute_result"
    },
    {
     "data": {
      "image/png": "[encoded data removed]",
      "text/plain": [
       "<Figure size 432x288 with 1 Axes>"
      ]
     },
     "metadata": {
      "needs_background": "light"
     },
     "output_type": "display_data"
    }
   ],
   "source": [
    "sns.distplot(df['democraticCosponsor'], kde=False)"
   ]
  },
  {
   "cell_type": "code",
   "execution_count": 21,
   "metadata": {},
   "outputs": [
    {
     "data": {
      "text/plain": [
       "<matplotlib.axes._subplots.AxesSubplot at 0x1eb9f13fc50>"
      ]
     },
     "execution_count": 21,
     "metadata": {},
     "output_type": "execute_result"
    },
    {
     "data": {
      "image/png": "[encoded data removed]",
      "text/plain": [
       "<Figure size 432x288 with 1 Axes>"
      ]
     },
     "metadata": {
      "needs_background": "light"
     },
     "output_type": "display_data"
    }
   ],
   "source": [
    "sns.distplot(df['republicanCosponsors'], kde=False)"
   ]
  },
  {
   "cell_type": "markdown",
   "metadata": {},
   "source": [
    "### Missing Value Imputation"
   ]
  },
  {
   "cell_type": "markdown",
   "metadata": {},
   "source": [
    "#### Method of Choice: Bin the primaryAge variable"
   ]
  },
  {
   "cell_type": "markdown",
   "metadata": {},
   "source": [
    "This helps us capture non-linear effects, but discretizing continuous variable can significantly reduce information within the variable, so I create many bins (20s, 30s, 40s, 50s, 60s, 70s)."
   ]
  },
  {
   "cell_type": "code",
   "execution_count": 22,
   "metadata": {},
   "outputs": [],
   "source": [
    "df['primaryAge'] = pd.cut(df.primaryAge,bins=[-1,20,30,40,50,60,70,100],labels=['missing','twenties','thirties','fourties','fifties','sixties','seventies'])"
   ]
  },
  {
   "cell_type": "code",
   "execution_count": 34,
   "metadata": {},
   "outputs": [],
   "source": [
    "df = pd.concat([df, pd.get_dummies(df['primaryAge'], prefix='primaryAge')], axis=1)\n",
    "df.drop(['primaryAge'],axis=1, inplace=True)"
   ]
  },
  {
   "cell_type": "markdown",
   "metadata": {},
   "source": [
    "Create separate category of NaN for primarySex variable. This was already done in One Hot Encoding."
   ]
  },
  {
   "cell_type": "code",
   "execution_count": null,
   "metadata": {},
   "outputs": [],
   "source": [
    "# I also explored KNN imputation and other imputation methods like mean, median for primaryAge\n",
    "from fancyimpute import KNN \n",
    "df_filled_knn = KNN(k=3).complete(df)"
   ]
  },
  {
   "cell_type": "markdown",
   "metadata": {},
   "source": [
    "# Model"
   ]
  },
  {
   "cell_type": "markdown",
   "metadata": {},
   "source": [
    "### Pipeline:<br>\n",
    "1) data split (75%/25%)<br>\n",
    "2) feature selection (with 5-fold cross valiation)<br>\n",
    "3) grid search (with 5-fold cross valiation)"
   ]
  },
  {
   "cell_type": "markdown",
   "metadata": {},
   "source": [
    "## Models\n",
    "1. Bagging <br>\n",
    "    a. Random Forest <br>\n",
    "    b. Extreme Random Forest <br>\n",
    "2. Boosting <br>\n",
    "    a. AdaBoost<br>\n",
    "    b. Gradient Boost<br>\n",
    "    c. Extreme Gradient Boost<br>\n",
    "3. Logistic Regression<br>\n",
    "4. Discriminants<br>\n",
    "    a. Linear<br>\n",
    "    b. Quadratic<br>\n",
    "    c. Nearest Centroid<br>\n",
    "5. Support Vector Classifier<br>\n",
    "    a. Linear Kernel<br>\n",
    "    b. Polynomial Kernel<br>\n",
    "    c. Radial Basis Function Kernel<br>\n",
    "6. Neural Net Classifier<br>\n",
    "7. Gaussian Naive Bayes<br>\n",
    "8. K Nearest Neighbors<br>\n",
    "9. Gaussian Process"
   ]
  },
  {
   "cell_type": "markdown",
   "metadata": {},
   "source": [
    "###  Split Data"
   ]
  },
  {
   "cell_type": "code",
   "execution_count": 38,
   "metadata": {},
   "outputs": [],
   "source": [
    "X, y = df.drop(columns=['Reached Floor', 'newId']), df['Reached Floor']\n",
    "X_train, X_test, y_train, y_test = train_test_split(X, y, \n",
    "                                                    test_size=0.25, \n",
    "                                                    random_state=42)"
   ]
  },
  {
   "cell_type": "markdown",
   "metadata": {},
   "source": [
    "### Feature Selection: Either Chi Squared Filtering or  Recursive Feature Elimination \n",
    "### Hyperparameter Tuning: Grid Search\n",
    "### Overfitting curbed by Train-Test Split (External Validation) and Each Model's Internal Regularization. To get more stable estimate of generalizability of each model, I use 5-fold cross validation."
   ]
  },
  {
   "cell_type": "markdown",
   "metadata": {},
   "source": [
    "### Pre-Model Feature Selection: Chi-squared on Categorical Variables"
   ]
  },
  {
   "cell_type": "markdown",
   "metadata": {},
   "source": [
    "Chi-square is one of the ways of feature selection for categorical features.<br>\n",
    "Chi-square statistics examines the independence of two categorical vectors.<br>\n",
    "We will calculate Chi-square score for all the features and try to visualize it.<br>\n",
    "Chi-square score is calculated for features with respect to target. Chi-squared tests are for categorical variables only but since we know from correlation matrix above that the only numeric variables (democraticCosponsor and republicanCosponsor) are highly correlated with Reached Floor, it is redundant to conduct ROC-AUC tests on them. "
   ]
  },
  {
   "cell_type": "code",
   "execution_count": 147,
   "metadata": {},
   "outputs": [
    {
     "data": {
      "image/png": "[encoded data removed]",
      "text/plain": [
       "<Figure size 1440x2880 with 1 Axes>"
      ]
     },
     "metadata": {
      "needs_background": "light"
     },
     "output_type": "display_data"
    }
   ],
   "source": [
    "chi2_selector=SelectKBest(chi2,k=15)\n",
    "feature_kbest=chi2_selector.fit_transform(X_train,y_train)\n",
    "df_chi=pd.DataFrame(chi2_selector.scores_,columns=['chi_score'])\n",
    "df_chi['columns']=X_train.columns\n",
    "df_chi_s=df_chi.sort_values(by='chi_score')\n",
    "\n",
    "fig,ax=plt.subplots(figsize=(20,40))\n",
    "plt.title(\"Chi-squared statistics for features\",fontsize=30)\n",
    "plt.ylabel(\"Features\",fontsize=30)\n",
    "plt.xlabel(\"Chi-squared statistic\",fontsize=30)\n",
    "plt.barh(range(len(df_chi_s['chi_score'])),df_chi_s['chi_score'],align='edge',color='rgbkymc')\n",
    "plt.yticks(range(len(df_chi_s['chi_score'])),df_chi_s['columns'],color='g',fontsize=15)\n",
    "for i in range(0,28,2):\n",
    "    ax.get_yticklabels()[i].set_color(\"red\")\n",
    "plt.show()"
   ]
  },
  {
   "cell_type": "markdown",
   "metadata": {},
   "source": [
    "#### Columns Selected from Filtering"
   ]
  },
  {
   "cell_type": "code",
   "execution_count": 196,
   "metadata": {},
   "outputs": [
    {
     "data": {
      "text/plain": [
       "['Fiscal Note',\n",
       " 'New Act',\n",
       " 'Pensions',\n",
       " 'Revenue',\n",
       " 'democraticCosponsor',\n",
       " 'republicanCosponsors',\n",
       " 'bipartisan',\n",
       " 'Chamber_HB',\n",
       " 'Chamber_SB',\n",
       " 'Election_Status_0',\n",
       " 'Election_Status_2',\n",
       " 'primaryParty_D',\n",
       " 'primaryParty_R',\n",
       " 'primaryIsLeader_No',\n",
       " 'primaryIsLeader_Yes']"
      ]
     },
     "execution_count": 196,
     "metadata": {},
     "output_type": "execute_result"
    }
   ],
   "source": [
    "list(X_train.columns[chi2_selector.get_support(indices=True)])"
   ]
  },
  {
   "cell_type": "markdown",
   "metadata": {},
   "source": [
    "# Model Evaluation "
   ]
  },
  {
   "cell_type": "markdown",
   "metadata": {},
   "source": [
    "This function will print out all the classification metrics."
   ]
  },
  {
   "cell_type": "code",
   "execution_count": 45,
   "metadata": {},
   "outputs": [],
   "source": [
    "def evaluation_result(predicted, reference):\n",
    "    print(\"Accuracy is: \" + str(accuracy_score(reference, predicted)))\n",
    "    print(\"F1 score is: \" + str(f1_score(reference, predicted)))\n",
    "    print(\"Precision is: \" + str(precision_score(reference, predicted)))\n",
    "    print(\"Recall is: \" + str(recall_score(reference, predicted)))\n",
    "    print(\"Kappa score is: \" + str(cohen_kappa_score(reference, predicted)))\n",
    "    print(\"AUC is: \" + str(roc_auc_score(reference, predicted)))\n",
    "    print(\"Balanced accuracy is: \" + str(balanced_accuracy_score(reference, predicted)))\n",
    "    print(confusion_matrix(y_predict, y_test))\n"
   ]
  },
  {
   "cell_type": "markdown",
   "metadata": {},
   "source": [
    "Now I will fit models on the training data, and output performance measures."
   ]
  },
  {
   "cell_type": "markdown",
   "metadata": {},
   "source": [
    "#### 1a. Random Forest"
   ]
  },
  {
   "cell_type": "code",
   "execution_count": 104,
   "metadata": {},
   "outputs": [],
   "source": [
    "clf_featr_sele_1a = RandomForestClassifier(n_jobs=-1,\n",
    "                                        n_estimators=300, \n",
    "                                        random_state=42,\n",
    "                                        oob_score = True,\n",
    "                                        class_weight=\"balanced\") \n",
    "rfecv_1a = RFECV(estimator=clf_featr_sele_1a, \n",
    "              step=1, \n",
    "              cv=5, \n",
    "              scoring = 'roc_auc')\n",
    "clf_1a = RandomForestClassifier(random_state=42) \n",
    "CV_clf_1a = GridSearchCV(estimator=clf_1a, \n",
    "                      param_grid={'n_estimators': [300,500, 700],\n",
    "                                  'max_features': ['auto'],\n",
    "                                  'criterion' :['gini', 'entropy'],\n",
    "                                 'max_depth':np.arange(2,11)},\n",
    "                      cv= 5, \n",
    "                      scoring = 'roc_auc')\n",
    "pipeline_1a  = Pipeline([('feature_sele',rfecv_1a),\n",
    "                      ('clf_cv',CV_clf_1a)])\n",
    "\n",
    "pipeline_1a.fit(X_train, y_train)\n",
    "y_predict_1a = pipeline_1a.predict(X_test)"
   ]
  },
  {
   "cell_type": "code",
   "execution_count": 105,
   "metadata": {},
   "outputs": [
    {
     "data": {
      "text/plain": [
       "['C:/Users/jihun/Desktop/random_forest.joblib']"
      ]
     },
     "execution_count": 105,
     "metadata": {},
     "output_type": "execute_result"
    }
   ],
   "source": [
    "dump(pipeline_1a, 'C:/Users/jihun/Desktop/random_forest.joblib') "
   ]
  },
  {
   "cell_type": "code",
   "execution_count": 109,
   "metadata": {},
   "outputs": [
    {
     "name": "stdout",
     "output_type": "stream",
     "text": [
      "Accuracy is: 0.756\n",
      "F1 score is: 0.5547445255474452\n",
      "Precision is: 0.6440677966101694\n",
      "Recall is: 0.48717948717948717\n",
      "Kappa score is: 0.3911203385770182\n",
      "AUC is: 0.6825432319618366\n",
      "Balanced accuracy is: 0.6825432319618366\n",
      "[[298  76]\n",
      " [ 46  80]]\n"
     ]
    }
   ],
   "source": [
    "evaluation_result(y_predict_1a, y_test)"
   ]
  },
  {
   "cell_type": "markdown",
   "metadata": {},
   "source": [
    "### 1b. Extreme Random Forest"
   ]
  },
  {
   "cell_type": "code",
   "execution_count": 112,
   "metadata": {},
   "outputs": [],
   "source": [
    "clf_featr_sele_1b = ExtraTreesClassifier(n_jobs=-1,\n",
    "                                        n_estimators=300, \n",
    "                                        random_state=42,\n",
    "                                        oob_score = True,\n",
    "                                         bootstrap=True,\n",
    "                                        class_weight=\"balanced\") \n",
    "rfecv_1b = RFECV(estimator=clf_featr_sele_1b, \n",
    "              step=1, \n",
    "              cv=5, \n",
    "              scoring = 'roc_auc')\n",
    "clf_1b = ExtraTreesClassifier(random_state=42,\n",
    "                              oob_score = True,\n",
    "                              bootstrap=True) \n",
    "CV_clf_1b = GridSearchCV(estimator=clf_1b, \n",
    "                      param_grid={'n_estimators': [300,500, 700],\n",
    "                                  'max_features': ['auto'],\n",
    "                                  'criterion' :['gini', 'entropy'],\n",
    "                                 'max_depth':np.arange(2,11)},\n",
    "                      cv= 5, \n",
    "                      scoring = 'roc_auc')\n",
    "pipeline_1b  = Pipeline([('feature_sele',rfecv_1b),\n",
    "                      ('clf_cv',CV_clf_1b)])\n",
    "\n",
    "pipeline_1b.fit(X_train, y_train)\n",
    "y_predict_1b = pipeline_1b.predict(X_test)"
   ]
  },
  {
   "cell_type": "code",
   "execution_count": 113,
   "metadata": {},
   "outputs": [
    {
     "data": {
      "text/plain": [
       "['C:/Users/jihun/Desktop/extreme_random_forest.joblib']"
      ]
     },
     "execution_count": 113,
     "metadata": {},
     "output_type": "execute_result"
    }
   ],
   "source": [
    "dump(pipeline_1b, 'C:/Users/jihun/Desktop/extreme_random_forest.joblib') "
   ]
  },
  {
   "cell_type": "code",
   "execution_count": 114,
   "metadata": {},
   "outputs": [
    {
     "name": "stdout",
     "output_type": "stream",
     "text": [
      "Accuracy is: 0.752\n",
      "F1 score is: 0.5303030303030304\n",
      "Precision is: 0.6481481481481481\n",
      "Recall is: 0.44871794871794873\n",
      "Kappa score is: 0.36930338541666663\n",
      "AUC is: 0.6691264162194395\n",
      "Balanced accuracy is: 0.6691264162194395\n",
      "[[298  76]\n",
      " [ 46  80]]\n"
     ]
    }
   ],
   "source": [
    "evaluation_result(y_predict_1b, y_test)"
   ]
  },
  {
   "cell_type": "markdown",
   "metadata": {},
   "source": [
    "### 2a. AdaBoost Classifier"
   ]
  },
  {
   "cell_type": "code",
   "execution_count": 116,
   "metadata": {
    "collapsed": true
   },
   "outputs": [
    {
     "ename": "NameError",
     "evalue": "name 'pipeline_' is not defined",
     "output_type": "error",
     "traceback": [
      "\u001b[1;31m---------------------------------------------------------------------------\u001b[0m",
      "\u001b[1;31mNameError\u001b[0m                                 Traceback (most recent call last)",
      "\u001b[1;32m<ipython-input-116-291e967b18d2>\u001b[0m in \u001b[0;36m<module>\u001b[1;34m\u001b[0m\n\u001b[0;32m     16\u001b[0m \u001b[1;33m\u001b[0m\u001b[0m\n\u001b[0;32m     17\u001b[0m \u001b[0mpipeline_2a\u001b[0m\u001b[1;33m.\u001b[0m\u001b[0mfit\u001b[0m\u001b[1;33m(\u001b[0m\u001b[0mX_train\u001b[0m\u001b[1;33m,\u001b[0m \u001b[0my_train\u001b[0m\u001b[1;33m)\u001b[0m\u001b[1;33m\u001b[0m\u001b[1;33m\u001b[0m\u001b[0m\n\u001b[1;32m---> 18\u001b[1;33m \u001b[0my_predict_2a\u001b[0m \u001b[1;33m=\u001b[0m \u001b[0mpipeline_\u001b[0m\u001b[1;33m.\u001b[0m\u001b[0mpredict\u001b[0m\u001b[1;33m(\u001b[0m\u001b[0mX_test\u001b[0m\u001b[1;33m)\u001b[0m\u001b[1;33m\u001b[0m\u001b[1;33m\u001b[0m\u001b[0m\n\u001b[0m",
      "\u001b[1;31mNameError\u001b[0m: name 'pipeline_' is not defined"
     ]
    }
   ],
   "source": [
    "clf_featr_sele_2a = AdaBoostClassifier(n_estimators=300, \n",
    "                                        random_state=42) \n",
    "rfecv_2a = RFECV(estimator=clf_featr_sele_2a, \n",
    "              step=1, \n",
    "              cv=5, \n",
    "              scoring = 'roc_auc')\n",
    "clf_2a = AdaBoostClassifier(random_state=42) \n",
    "CV_clf_2a = GridSearchCV(estimator=clf_2a, \n",
    "                      param_grid={'n_estimators': [300,500, 700],\n",
    "                                  'learning_rate':[0.001,0.005,0.01,0.05,0.1,1],\n",
    "                                 'algorithm':['SAMME','SAMME.R']},\n",
    "                      cv= 5, \n",
    "                      scoring = 'roc_auc')\n",
    "pipeline_2a  = Pipeline([('feature_sele',rfecv_2a),\n",
    "                      ('clf_cv',CV_clf_2a)])\n",
    "\n",
    "pipeline_2a.fit(X_train, y_train)\n",
    "y_predict_2a = pipeline_2a.predict(X_test)"
   ]
  },
  {
   "cell_type": "code",
   "execution_count": 118,
   "metadata": {},
   "outputs": [
    {
     "data": {
      "text/plain": [
       "['C:/Users/jihun/Desktop/adaboost.joblib']"
      ]
     },
     "execution_count": 118,
     "metadata": {},
     "output_type": "execute_result"
    }
   ],
   "source": [
    "dump(pipeline_2a, 'C:/Users/jihun/Desktop/adaboost.joblib') "
   ]
  },
  {
   "cell_type": "code",
   "execution_count": 119,
   "metadata": {},
   "outputs": [
    {
     "name": "stdout",
     "output_type": "stream",
     "text": [
      "Accuracy is: 0.77\n",
      "F1 score is: 0.5147679324894515\n",
      "Precision is: 0.7530864197530864\n",
      "Recall is: 0.391025641025641\n",
      "Kappa score is: 0.3832325052559318\n",
      "AUC is: 0.66644305307096\n",
      "Balanced accuracy is: 0.6664430530709601\n",
      "[[298  76]\n",
      " [ 46  80]]\n"
     ]
    }
   ],
   "source": [
    "evaluation_result(y_predict_2a, y_test)"
   ]
  },
  {
   "cell_type": "markdown",
   "metadata": {},
   "source": [
    "### 2b. Gradient Boosting Classifier"
   ]
  },
  {
   "cell_type": "code",
   "execution_count": 121,
   "metadata": {},
   "outputs": [],
   "source": [
    "clf_featr_sele_2b = GradientBoostingClassifier(n_estimators=300, \n",
    "                                        random_state=42) \n",
    "rfecv_2b = RFECV(estimator=clf_featr_sele_2b, \n",
    "              step=1, \n",
    "              cv=5, \n",
    "              scoring = 'roc_auc')\n",
    "clf_2b = GradientBoostingClassifier(random_state=42) \n",
    "CV_clf_2b = GridSearchCV(estimator=clf_2b, \n",
    "                      param_grid={'n_estimators': [300,500, 700],\n",
    "                                  'learning_rate':[0.001,0.005,0.01,0.05,0.1,1],\n",
    "                                  'loss':['deviance','exponential'],\n",
    "                                  'subsample':[0.8,0.9,1.0],\n",
    "                                  'max_depth': [2,3,5,7],\n",
    "                                  'max_features':['auto'],\n",
    "                                     \"min_samples_leaf\": np.linspace(0.1, 0.5, 5)},\n",
    "                      cv= 5, \n",
    "                      scoring = 'roc_auc')\n",
    "pipeline_2b  = Pipeline([('feature_sele',rfecv_2b),\n",
    "                      ('clf_cv',CV_clf_2b)])\n",
    "\n",
    "pipeline_2b.fit(X_train, y_train)\n",
    "y_predict_2b = pipeline_2b.predict(X_test)"
   ]
  },
  {
   "cell_type": "code",
   "execution_count": 122,
   "metadata": {},
   "outputs": [
    {
     "data": {
      "text/plain": [
       "['C:/Users/jihun/Desktop/gradientboost.joblib']"
      ]
     },
     "execution_count": 122,
     "metadata": {},
     "output_type": "execute_result"
    }
   ],
   "source": [
    "dump(pipeline_2b, 'C:/Users/jihun/Desktop/gradientboost.joblib') "
   ]
  },
  {
   "cell_type": "code",
   "execution_count": 123,
   "metadata": {},
   "outputs": [
    {
     "name": "stdout",
     "output_type": "stream",
     "text": [
      "Accuracy is: 0.766\n",
      "F1 score is: 0.5411764705882354\n",
      "Precision is: 0.696969696969697\n",
      "Recall is: 0.4423076923076923\n",
      "Kappa score is: 0.39448515712333865\n",
      "AUC is: 0.6775491949910554\n",
      "Balanced accuracy is: 0.6775491949910555\n",
      "[[298  76]\n",
      " [ 46  80]]\n"
     ]
    }
   ],
   "source": [
    "evaluation_result(y_predict_2b, y_test)"
   ]
  },
  {
   "cell_type": "markdown",
   "metadata": {},
   "source": [
    "### 2c. Extreme Gradient Boosting"
   ]
  },
  {
   "cell_type": "code",
   "execution_count": 161,
   "metadata": {},
   "outputs": [],
   "source": [
    "xgb_param = alg.get_xgb_params()\n",
    "xgtrain = xgb.DMatrix(dtrain[predictors].values, label=dtrain[target].values)\n",
    "cvresult = xgb.cv(xgb_param, xgtrain, num_boost_round=alg.get_params()['n_estimators'], nfold=cv_folds,\n",
    "    metrics='auc', early_stopping_rounds=early_stopping_rounds, show_progress=False)\n",
    "alg.set_params(n_estimators=cvresult.shape[0])\n",
    "\n",
    "#Fit the algorithm on the data\n",
    "alg.fit(dtrain[predictors], dtrain['Disbursed'],eval_metric='auc')\n",
    "\n",
    "#Predict training set:\n",
    "dtrain_predictions = alg.predict(dtrain[predictors])\n",
    "dtrain_predprob = alg.predict_proba(dtrain[predictors])[:,1]\n",
    "\n",
    "#Print model report:\n",
    "print(\"\\nModel Report\")\n",
    "print(\"Accuracy : %.4g\" % metrics.accuracy_score(dtrain['Disbursed'].values, dtrain_predictions))\n",
    "print(\"AUC Score (Train): %f\" % metrics.roc_auc_score(dtrain['Disbursed'], dtrain_predprob))\n",
    "\n",
    "feat_imp = pd.Series(alg.booster().get_fscore()).sort_values(ascending=False)\n",
    "feat_imp.plot(kind='bar', title='Feature Importances')\n",
    "plt.ylabel('Feature Importance Score')"
   ]
  },
  {
   "cell_type": "code",
   "execution_count": 171,
   "metadata": {},
   "outputs": [
    {
     "data": {
      "text/plain": [
       "XGBClassifier(base_score=0.5, booster='gbtree', colsample_bylevel=1,\n",
       "       colsample_bynode=1, colsample_bytree=0.8, gamma=0,\n",
       "       learning_rate=0.1, max_delta_step=0, max_depth=4,\n",
       "       min_child_weight=6, missing=None, n_estimators=34, n_jobs=1,\n",
       "       nthread=4, objective='binary:logistic', random_state=0,\n",
       "       reg_alpha=0.005, reg_lambda=1, scale_pos_weight=1, seed=27,\n",
       "       silent=None, subsample=0.8, verbosity=1)"
      ]
     },
     "execution_count": 171,
     "metadata": {},
     "output_type": "execute_result"
    }
   ],
   "source": [
    "alg = XGBClassifier(\n",
    " learning_rate =0.1,\n",
    " n_estimators=1000,\n",
    " max_depth=4,\n",
    " min_child_weight=6,\n",
    " gamma=0,\n",
    " subsample=0.8,\n",
    " colsample_bytree=0.8,\n",
    " reg_alpha=0.005,\n",
    " objective= 'binary:logistic',\n",
    " nthread=4,\n",
    " scale_pos_weight=1,\n",
    " seed=27)\n",
    "xgb_param = alg.get_xgb_params()\n",
    "xgtrain = xgb.DMatrix(X_train.values, label=y_train.values)\n",
    "cvresult = xgb.cv(xgb_param, xgtrain, num_boost_round=alg.get_params()['n_estimators'], nfold=5,\n",
    "    metrics='auc', early_stopping_rounds=50\n",
    "                 )\n",
    "alg.set_params(n_estimators=cvresult.shape[0])"
   ]
  },
  {
   "cell_type": "code",
   "execution_count": 173,
   "metadata": {},
   "outputs": [
    {
     "data": {
      "text/plain": [
       "XGBClassifier(base_score=0.5, booster='gbtree', colsample_bylevel=1,\n",
       "       colsample_bynode=1, colsample_bytree=0.8, gamma=0,\n",
       "       learning_rate=0.1, max_delta_step=0, max_depth=4,\n",
       "       min_child_weight=6, missing=None, n_estimators=34, n_jobs=1,\n",
       "       nthread=4, objective='binary:logistic', random_state=0,\n",
       "       reg_alpha=0.005, reg_lambda=1, scale_pos_weight=1, seed=27,\n",
       "       silent=None, subsample=0.8, verbosity=1)"
      ]
     },
     "execution_count": 173,
     "metadata": {},
     "output_type": "execute_result"
    }
   ],
   "source": [
    "alg.fit(X_train, y_train,eval_metric='auc')"
   ]
  },
  {
   "cell_type": "code",
   "execution_count": 174,
   "metadata": {},
   "outputs": [],
   "source": [
    "y_predict_2d = alg.predict(X_test)"
   ]
  },
  {
   "cell_type": "code",
   "execution_count": 175,
   "metadata": {},
   "outputs": [
    {
     "name": "stdout",
     "output_type": "stream",
     "text": [
      "Accuracy is: 0.754\n",
      "F1 score is: 0.5714285714285715\n",
      "Precision is: 0.6259541984732825\n",
      "Recall is: 0.5256410256410257\n",
      "Kappa score is: 0.4007483337880501\n",
      "AUC is: 0.6915995825879546\n",
      "Balanced accuracy is: 0.6915995825879546\n",
      "[[298  76]\n",
      " [ 46  80]]\n"
     ]
    }
   ],
   "source": [
    "evaluation_result(y_predict_2d, y_test)"
   ]
  },
  {
   "cell_type": "markdown",
   "metadata": {},
   "source": [
    "### 3.  Logistic Regression"
   ]
  },
  {
   "cell_type": "code",
   "execution_count": null,
   "metadata": {},
   "outputs": [],
   "source": [
    "clf_featr_sele_3 = LogisticRegression(random_state=42)\n",
    "rfecv_3 = RFECV(estimator=clf_featr_sele_3,\n",
    "                step=1,\n",
    "                cv=5,\n",
    "                scoring='roc_auc')\n",
    "\n",
    "clf_3 = LogisticRegression(random_state=42)\n",
    "CV_clf_3 = GridSearchCV(estimator=clf_3,\n",
    "                        param_grid={'penalty': ['l1','l2'],\n",
    "                                   'C':np.linspace(0.1,1,10)},\n",
    "                        cv=5,\n",
    "                        scoring='roc_auc')\n",
    "pipeline_3 = Pipeline([('feature_sele',rfecv_3),\n",
    "                       ('clf_cv',CV_clf_3)])\n",
    "pipeline_3.fit(X_train,y_train)\n",
    "y_predict_3 = pipeline_3.predict(X_test)"
   ]
  },
  {
   "cell_type": "code",
   "execution_count": 142,
   "metadata": {},
   "outputs": [
    {
     "name": "stdout",
     "output_type": "stream",
     "text": [
      "Accuracy is: 0.758\n",
      "F1 score is: 0.5925925925925926\n",
      "Precision is: 0.624113475177305\n",
      "Recall is: 0.5641025641025641\n",
      "Kappa score is: 0.42109694951582655\n",
      "AUC is: 0.7050163983303518\n",
      "Balanced accuracy is: 0.7050163983303518\n",
      "[[298  76]\n",
      " [ 46  80]]\n"
     ]
    }
   ],
   "source": [
    "evaluation_result(y_predict_3, y_test)"
   ]
  },
  {
   "cell_type": "markdown",
   "metadata": {},
   "source": [
    "### 4a. Linear Discriminants"
   ]
  },
  {
   "cell_type": "code",
   "execution_count": 209,
   "metadata": {},
   "outputs": [
    {
     "name": "stdout",
     "output_type": "stream",
     "text": [
      "Accuracy is: 0.766\n",
      "F1 score is: 0.5865724381625441\n",
      "Precision is: 0.6535433070866141\n",
      "Recall is: 0.532051282051282\n",
      "Kappa score is: 0.42577250775452513\n",
      "AUC is: 0.7020721526535479\n",
      "Balanced accuracy is: 0.702072152653548\n",
      "[[298  76]\n",
      " [ 46  80]]\n"
     ]
    }
   ],
   "source": [
    "clf_4a = LinearDiscriminantAnalysis()\n",
    "CV_clf_4a = GridSearchCV(estimator=clf_4a,\n",
    "                        param_grid={'solver': ['lsqr','eigen'],  \n",
    "                                  'shrinkage': ['auto']\n",
    "                                   },\n",
    "                        cv=5,\n",
    "                        scoring='roc_auc')\n",
    "pipeline_4a = Pipeline([('chi2', chi2_selector),\n",
    "                       ('clf_cv',CV_clf_4a)])\n",
    "pipeline_4a.fit(X_train,y_train)\n",
    "y_predict_4a = pipeline_4a.predict(X_test)\n",
    "evaluation_result(y_predict_4a, y_test)"
   ]
  },
  {
   "cell_type": "markdown",
   "metadata": {},
   "source": [
    "### 4b. Quadratic Discriminants"
   ]
  },
  {
   "cell_type": "code",
   "execution_count": null,
   "metadata": {
    "scrolled": false
   },
   "outputs": [],
   "source": [
    "clf_4b = QuadraticDiscriminantAnalysis()\n",
    "CV_clf_4b = GridSearchCV(estimator=clf_4b,\n",
    "                        param_grid={'reg_param':np.linspace(0,1,11)},\n",
    "                        cv=5,\n",
    "                        scoring='roc_auc')\n",
    "pipeline_4b = Pipeline([('chi2', chi2_selector),\n",
    "                       ('clf_cv',CV_clf_4b)])\n",
    "pipeline_4b.fit(X_train,y_train)\n",
    "y_predict_4b = pipeline_4b.predict(X_test)"
   ]
  },
  {
   "cell_type": "code",
   "execution_count": 152,
   "metadata": {},
   "outputs": [
    {
     "name": "stdout",
     "output_type": "stream",
     "text": [
      "Accuracy is: 0.748\n",
      "F1 score is: 0.5987261146496815\n",
      "Precision is: 0.5949367088607594\n",
      "Recall is: 0.6025641025641025\n",
      "Kappa score is: 0.41506350739062614\n",
      "AUC is: 0.7082587954680978\n",
      "Balanced accuracy is: 0.7082587954680978\n",
      "[[298  76]\n",
      " [ 46  80]]\n"
     ]
    }
   ],
   "source": [
    "evaluation_result(y_predict_4b, y_test)"
   ]
  },
  {
   "cell_type": "markdown",
   "metadata": {},
   "source": [
    "### 4c. Nearest Centroid"
   ]
  },
  {
   "cell_type": "code",
   "execution_count": 156,
   "metadata": {},
   "outputs": [],
   "source": [
    "clf_4c = NearestCentroid()\n",
    "CV_clf_4c = GridSearchCV(estimator=clf_4c,\n",
    "                        param_grid={'metric':['euclidean','manhattan'],\n",
    "                                    'shrink_threshold':[0.2,0.4,0.6,0.8,1,None]},\n",
    "                        cv=5)\n",
    "CV_clf_4c.fit(X_train,y_train)\n",
    "y_predict_4c = CV_clf_4c.predict(X_test)"
   ]
  },
  {
   "cell_type": "code",
   "execution_count": 157,
   "metadata": {},
   "outputs": [
    {
     "name": "stdout",
     "output_type": "stream",
     "text": [
      "Accuracy is: 0.744\n",
      "F1 score is: 0.5844155844155844\n",
      "Precision is: 0.5921052631578947\n",
      "Recall is: 0.5769230769230769\n",
      "Kappa score is: 0.39948956613121145\n",
      "AUC is: 0.698345259391771\n",
      "Balanced accuracy is: 0.698345259391771\n",
      "[[298  76]\n",
      " [ 46  80]]\n"
     ]
    }
   ],
   "source": [
    "evaluation_result(y_predict_4c, y_test)"
   ]
  },
  {
   "cell_type": "markdown",
   "metadata": {},
   "source": [
    "# Interpretation"
   ]
  },
  {
   "cell_type": "markdown",
   "metadata": {},
   "source": [
    "## Top Model: Linear discriminant analysis"
   ]
  },
  {
   "cell_type": "markdown",
   "metadata": {},
   "source": [
    "LDA has Kappa score of 0.43, AUC of 0.7, and Balanced Accuracy of 0.7. Since the response variable has a slightly imbalanced distribution, I want to select model based on metrics that are robust to imbalance issues instead of accracy score which can be inflated by data imbalance. On all three metrics, LDA performs the best."
   ]
  },
  {
   "cell_type": "markdown",
   "metadata": {},
   "source": [
    "### 1. Best Hyperparameters"
   ]
  },
  {
   "cell_type": "code",
   "execution_count": 181,
   "metadata": {},
   "outputs": [
    {
     "data": {
      "text/plain": [
       "{'shrinkage': 'auto', 'solver': 'lsqr'}"
      ]
     },
     "execution_count": 181,
     "metadata": {},
     "output_type": "execute_result"
    }
   ],
   "source": [
    "pipeline_4a.steps[1][1].best_params_"
   ]
  },
  {
   "cell_type": "markdown",
   "metadata": {},
   "source": [
    "'lsqr' is least squares solution. 'auto' is automatic shrinkage using Ledoit-Wolf Lemma."
   ]
  },
  {
   "cell_type": "markdown",
   "metadata": {},
   "source": [
    "### 2. Variable Scores"
   ]
  },
  {
   "cell_type": "markdown",
   "metadata": {},
   "source": [
    "Although we applied Chi-squared filtering by the top 15 features, using all the features still output the better model performance."
   ]
  },
  {
   "cell_type": "markdown",
   "metadata": {},
   "source": [
    "This table below lists variable by its importance in descending manner."
   ]
  },
  {
   "cell_type": "code",
   "execution_count": 211,
   "metadata": {},
   "outputs": [
    {
     "name": "stdout",
     "output_type": "stream",
     "text": [
      "               variables      scores      p_values\n",
      "5    democraticCosponsor  294.014992  6.633554e-66\n",
      "8             bipartisan  114.773385  8.822479e-27\n",
      "6   republicanCosponsors   65.816803  4.948455e-16\n",
      "1                New Act   51.241588  8.166996e-13\n",
      "13            Chamber_SB   39.044201  4.143179e-10\n",
      "16     Election_Status_2   34.886133  3.495617e-09\n",
      "18        primaryParty_R   33.865137  5.906772e-09\n",
      "12            Chamber_HB   20.534946  5.855245e-06\n",
      "17        primaryParty_D   19.326178  1.101853e-05\n",
      "19    primaryIsLeader_No   19.062140  1.265302e-05\n",
      "4                Revenue   17.936642  2.283816e-05\n",
      "14     Election_Status_0   15.243599  9.449648e-05\n",
      "20   primaryIsLeader_Yes   11.004327  9.089942e-04\n",
      "2               Pensions    6.111685  1.342910e-02\n",
      "0            Fiscal Note    5.091387  2.404495e-02\n",
      "23   primaryAge_thirties    2.122193  1.451785e-01\n",
      "7            primaryRace    1.689982  1.936034e-01\n",
      "25    primaryAge_fifties    1.371754  2.415107e-01\n",
      "27  primaryAge_seventies    1.126975  2.884215e-01\n",
      "26    primaryAge_sixties    0.923352  3.365964e-01\n",
      "24   primaryAge_fourties    0.846837  3.574488e-01\n",
      "21    primaryAge_missing    0.646327  4.214288e-01\n",
      "22   primaryAge_twenties    0.610748  4.345063e-01\n",
      "11        primarySex_nan    0.600044  4.385613e-01\n",
      "15     Election_Status_1    0.312500  5.761501e-01\n",
      "9      primarySex_Female    0.136762  7.115215e-01\n",
      "3                Finance    0.038398  8.446469e-01\n",
      "10       primarySex_Male    0.018263  8.925011e-01\n"
     ]
    }
   ],
   "source": [
    "result = pd.DataFrame({'variables': list(X_train.columns),\n",
    "          'scores': pipeline_4a.steps[0][1].scores_,\n",
    "          'p_values': pipeline_4a.steps[0][1].pvalues_})\n",
    "print(result.sort_values(by=['scores'], ascending=False))"
   ]
  },
  {
   "cell_type": "markdown",
   "metadata": {},
   "source": [
    "## Analysis of Results"
   ]
  },
  {
   "cell_type": "markdown",
   "metadata": {},
   "source": [
    "The analysis shows that clout of support behind a bill is the most important predictor of whether a bill will reach a floor vote. Specifically, if a bill has a greater number of cosponsors - and additional influence for bipartisan support - it is more likely to reach a floor vote, which is not surprising. <br>\n",
    "\n",
    "Interestingly, the weight of Democratic cosponsor is much greater than the Republican counterpart by almost 5 times the magnitude. This makes sense considering the Democrats are in control of both House and Senate in the state of Illinois (assuming this data is from Illinois state legislature), and a chamber majority has greater muscle in making a bill of its ilk to a floor. It implies a Democratic state legislator has more opportunity in having his or her bill passed since it can reach a floor to be debated. <br>\n",
    "\n",
    "In addition, none of the demographic variables such as age, sex, and race play important role. In contrast, it is interesting that Presidential election year has some influence on the bill's fate as well. \n"
   ]
  },
  {
   "cell_type": "markdown",
   "metadata": {},
   "source": [
    "## How to improve the model?"
   ]
  },
  {
   "cell_type": "markdown",
   "metadata": {},
   "source": [
    "#### Data collection"
   ]
  },
  {
   "cell_type": "markdown",
   "metadata": {},
   "source": [
    "Collect more data - say topics of bill other than economic and financial. <br>\n",
    "\n",
    "However, I feel there is limit to how much new information we can collect such that they are measurable and quantifiable - especially if we assume some bills get decided by behind-the-door talks and negotiations. We know bills that don't have enough support for sure are dead on arrival and  will never reach the floor in the first place. Prior to submitting a bill, legislators gauge support for bills sub rosa, and this is not something that can be measured."
   ]
  },
  {
   "cell_type": "markdown",
   "metadata": {},
   "source": [
    "#### Missing data imputation methods"
   ]
  },
  {
   "cell_type": "markdown",
   "metadata": {},
   "source": [
    "Try other methods to deal with missing values and better elucidate information for models. For instance, age and gender can be imputed simultaneously using MICE interpolation algorithm."
   ]
  },
  {
   "cell_type": "markdown",
   "metadata": {},
   "source": [
    "#### Denser grid search"
   ]
  },
  {
   "cell_type": "markdown",
   "metadata": {},
   "source": [
    "Train my models on more hyperparameter and gain marginal improvements in performance."
   ]
  },
  {
   "cell_type": "markdown",
   "metadata": {},
   "source": [
    "#### Different feature engineering"
   ]
  },
  {
   "cell_type": "markdown",
   "metadata": {},
   "source": [
    "Aggregate near zero variance variables like finance and fiscal note into one variable, since they can be considered to have similar information."
   ]
  }
 ],
 "metadata": {
  "kernelspec": {
   "display_name": "Python 3",
   "language": "python",
   "name": "python3"
  },
  "language_info": {
   "codemirror_mode": {
    "name": "ipython",
    "version": 3
   },
   "file_extension": ".py",
   "mimetype": "text/x-python",
   "name": "python",
   "nbconvert_exporter": "python",
   "pygments_lexer": "ipython3",
   "version": "3.7.4"
  }
 },
 "nbformat": 4,
 "nbformat_minor": 2
}
